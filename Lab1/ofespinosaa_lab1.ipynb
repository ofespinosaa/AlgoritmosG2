{
  "nbformat": 4,
  "nbformat_minor": 0,
  "metadata": {
    "colab": {
      "name": "Copia de lab1.ipynb",
      "provenance": [],
      "collapsed_sections": []
    },
    "kernelspec": {
      "display_name": "Python 3",
      "language": "python",
      "name": "python3"
    },
    "language_info": {
      "codemirror_mode": {
        "name": "ipython",
        "version": 3
      },
      "file_extension": ".py",
      "mimetype": "text/x-python",
      "name": "python",
      "nbconvert_exporter": "python",
      "pygments_lexer": "ipython3",
      "version": "3.6.4"
    }
  },
  "cells": [
    {
      "cell_type": "markdown",
      "source": [
        ""
      ],
      "metadata": {
        "id": "0aRGfD7vZK_Y"
      }
    },
    {
      "cell_type": "markdown",
      "metadata": {
        "id": "eQzBbvyKQymx"
      },
      "source": [
        "<div align=\"center\">\n",
        "<img style=\"display: block; margin: auto;\" alt=\"photo\" src=\"https://cdn.quantconnect.com/web/i/icon.png\">\n",
        "\n",
        "Quantconnect\n",
        "\n",
        "Introduction to Financial Python\n",
        "</div>\n",
        "\n",
        "# 01 Data Types and Data Structures\n",
        "\n",
        "# Introduction\n",
        "\n",
        "This tutorial provides a basic introduction to the Python programming language. If you are new to Python, you should run the code snippets while reading this tutorial. If you are an advanced Python user, please feel free to skip this chapter.\n",
        "\n",
        "# Basic Variable Types\n",
        "The basic types of variables in Python are: strings, integers, floating point numbers and booleans.\n",
        "\n",
        "Strings in python are identified as a contiguous set of characters represented in either single quotes (' ') or double quotes (\" \").\n"
      ]
    },
    {
      "cell_type": "code",
      "metadata": {
        "colab": {
          "base_uri": "https://localhost:8080/"
        },
        "id": "N5t-UrcfOqid",
        "outputId": "4aca6864-1dfb-406d-8e0a-1e5343745839"
      },
      "source": [
        "my_string1 = 'Hola'\n",
        "my_string2 = \"Mundo\"\n",
        "print(my_string1 + ' ' + my_string2) # imprime lo contenido en my_string1 y my_string2 con un espacio entre ambas cadenas"
      ],
      "execution_count": null,
      "outputs": [
        {
          "output_type": "stream",
          "name": "stdout",
          "text": [
            "Hola Mundo\n"
          ]
        }
      ]
    },
    {
      "cell_type": "markdown",
      "metadata": {
        "id": "bXHnxZyHSd1M"
      },
      "source": [
        "An integer is a round number with no values after the decimal point."
      ]
    },
    {
      "cell_type": "code",
      "metadata": {
        "colab": {
          "base_uri": "https://localhost:8080/"
        },
        "id": "pNjuz3toOqif",
        "outputId": "d9055877-4be3-46ef-85b9-a05f214bbfaf"
      },
      "source": [
        "my_int = 105\n",
        "print(my_int) #Imprime la variable my_int\n",
        "print(type(my_int))#Imprime el tipo de variable de my_int"
      ],
      "execution_count": null,
      "outputs": [
        {
          "output_type": "stream",
          "name": "stdout",
          "text": [
            "105\n",
            "<class 'int'>\n"
          ]
        }
      ]
    },
    {
      "cell_type": "markdown",
      "metadata": {
        "id": "_1ZanWrYSnzF"
      },
      "source": [
        "The built-in function int() can convert a string into an integer."
      ]
    },
    {
      "cell_type": "code",
      "metadata": {
        "colab": {
          "base_uri": "https://localhost:8080/"
        },
        "id": "zPwGb20FOqif",
        "outputId": "4d4bb6ee-b963-4261-cc70-763db0232276"
      },
      "source": [
        "my_string = \"1050\"\n",
        "print(type(my_string)) #Imprime el tipo de variable de my_string\n",
        "my_int = int(my_string) #Hace un casting de string a int y lo guarda en my_int\n",
        "print(type(my_int)) #Imprime el tipo de variable de my_int"
      ],
      "execution_count": null,
      "outputs": [
        {
          "output_type": "stream",
          "name": "stdout",
          "text": [
            "<class 'str'>\n",
            "<class 'int'>\n"
          ]
        }
      ]
    },
    {
      "cell_type": "markdown",
      "metadata": {
        "id": "WqMDPDTHSrE9"
      },
      "source": [
        "A floating point number, or a float, is a real number in mathematics. In Python we need to include a value after a decimal point to define it as a float"
      ]
    },
    {
      "cell_type": "code",
      "metadata": {
        "colab": {
          "base_uri": "https://localhost:8080/"
        },
        "id": "otCzKKW9Oqig",
        "outputId": "b4320823-b43e-4095-8733-12f427efaaa3"
      },
      "source": [
        "my_string = \"95\"\n",
        "print(type(my_string))\n",
        "my_float = float(my_string) # convierte el string my_string en flotante y lo guarda en my_float\n",
        "print(type(my_float)) #imprime el tipo de variable de my_float\n",
        "flo=3.54\n",
        "print(type(flo))#imprime el tipo de variable de flo"
      ],
      "execution_count": null,
      "outputs": [
        {
          "output_type": "stream",
          "name": "stdout",
          "text": [
            "<class 'str'>\n",
            "<class 'float'>\n",
            "<class 'float'>\n"
          ]
        }
      ]
    },
    {
      "cell_type": "markdown",
      "metadata": {
        "id": "2iuyv8Q7StTJ"
      },
      "source": [
        "As you can see above, if we don't include a decimal value, the variable would be defined as an integer. The built-in function float() can convert a string or an integer into a float."
      ]
    },
    {
      "cell_type": "code",
      "metadata": {
        "colab": {
          "base_uri": "https://localhost:8080/"
        },
        "id": "wwLw5VthOqig",
        "outputId": "fa039d66-a43c-4576-bde5-09c801bffa37"
      },
      "source": [
        "my_bool = True\n",
        "print(my_bool) # imprime el valor de my_bool\n",
        "print(type(my_bool)) # imprime el tipo de variable de my_bool"
      ],
      "execution_count": null,
      "outputs": [
        {
          "output_type": "stream",
          "name": "stdout",
          "text": [
            "True\n",
            "<class 'bool'>\n"
          ]
        }
      ]
    },
    {
      "cell_type": "markdown",
      "metadata": {
        "id": "bnGMwH21Szr_"
      },
      "source": [
        "A boolean, or bool, is a binary variable. Its value can only be True or False. It is useful when we do some logic operations, which would be covered in our next chapter."
      ]
    },
    {
      "cell_type": "code",
      "metadata": {
        "colab": {
          "base_uri": "https://localhost:8080/"
        },
        "id": "DMa6pDl5Oqig",
        "outputId": "0ca013a2-2073-4cda-9f05-862860031d7a"
      },
      "source": [
        "# Cada linea imprime una cadena de texto y el resultado de la operacion descrita en cada una\n",
        "print(\"Addition \", 2+1)\n",
        "print(\"Subtraction \", 5-3)\n",
        "print(\"Multiplication \", 10*3)\n",
        "print(\"Division \", 10/5)\n",
        "print('exponent', 2**6)"
      ],
      "execution_count": null,
      "outputs": [
        {
          "output_type": "stream",
          "name": "stdout",
          "text": [
            "Addition  3\n",
            "Subtraction  2\n",
            "Multiplication  30\n",
            "Division  2.0\n",
            "exponent 64\n"
          ]
        }
      ]
    },
    {
      "cell_type": "markdown",
      "metadata": {
        "id": "1Xc9G9_sS2ju"
      },
      "source": [
        "# Basic Math Operations\n",
        "\n",
        "The basic math operators in python are demonstrated below:"
      ]
    },
    {
      "cell_type": "code",
      "metadata": {
        "colab": {
          "base_uri": "https://localhost:8080/"
        },
        "id": "KE9gUryAOqig",
        "outputId": "cc693f1f-dc50-4398-aa03-f8ab82c38942"
      },
      "source": [
        "print(10/3) #imprime la operacion de 10 / 3\n",
        "print(10.0/3) #imprime la operacion de 10 flotante / 3"
      ],
      "execution_count": null,
      "outputs": [
        {
          "output_type": "stream",
          "name": "stdout",
          "text": [
            "3.3333333333333335\n",
            "3.3333333333333335\n"
          ]
        }
      ]
    },
    {
      "cell_type": "markdown",
      "metadata": {
        "id": "AN5Oa3DoS_Nf"
      },
      "source": [
        "# Data Collections\n",
        "\n",
        "## List\n",
        "A list is an ordered collection of values. A list is mutable, which means you can change a list's value without changing the list itself. Creating a list is simply putting different comma-separated values between square brackets."
      ]
    },
    {
      "cell_type": "code",
      "metadata": {
        "colab": {
          "base_uri": "https://localhost:8080/"
        },
        "id": "-tQdNqCvOqig",
        "outputId": "36a46156-f991-4209-9b7d-03b15833af14"
      },
      "source": [
        "my_list = ['Item 1', 'Item 2'] #Crea una lista de 2 strings\n",
        "print(my_list)\n",
        "my_list = ['Item 1', 'Item 2', 1,2,3.0] #Crea una lita de 2 strings, 2 ints y 1 float\n",
        "print(my_list)"
      ],
      "execution_count": null,
      "outputs": [
        {
          "output_type": "stream",
          "name": "stdout",
          "text": [
            "['Item 1', 'Item 2']\n",
            "['Item 1', 'Item 2', 1, 2, 3.0]\n"
          ]
        }
      ]
    },
    {
      "cell_type": "markdown",
      "metadata": {
        "id": "1O0TsgZCTHrM"
      },
      "source": [
        "The values in a list are called \"elements\". We can access list elements by indexing. Python index starts from 0. So if you have a list of length n, the index of the first element will be 0, and that of the last element will be n − 1. By the way, the length of a list can be obtained by the built-in function len()."
      ]
    },
    {
      "cell_type": "code",
      "metadata": {
        "colab": {
          "base_uri": "https://localhost:8080/"
        },
        "id": "QhuVhRR5Oqih",
        "outputId": "ecfa8b89-8fa7-4c5c-b034-f461e3084997"
      },
      "source": [
        "my_list = ['Quant', 'Connect', 1,2,3] \n",
        "print(len(my_list)) #imprime la cantidad de items en my_list\n",
        "print(my_list[0]) #imprime el primer elemento\n",
        "print(my_list[len(my_list) -1]) #imprime el ultimo elemento"
      ],
      "execution_count": 1,
      "outputs": [
        {
          "output_type": "stream",
          "name": "stdout",
          "text": [
            "5\n",
            "Quant\n",
            "3\n"
          ]
        }
      ]
    },
    {
      "cell_type": "markdown",
      "metadata": {
        "id": "jgSZy1VGTKSc"
      },
      "source": [
        "You can also change the elements in the list by accessing an index and assigning a new value."
      ]
    },
    {
      "cell_type": "code",
      "metadata": {
        "colab": {
          "base_uri": "https://localhost:8080/"
        },
        "id": "NQBNLjAvOqih",
        "outputId": "476b8e55-d299-41aa-9215-9c0098bbf43c"
      },
      "source": [
        "my_list = ['Quant','Connect',1,2,3]\n",
        "my_list[2] = 'go' #sobreescribe el 3er elemento\n",
        "print(my_list) #imprime la lista modificada"
      ],
      "execution_count": null,
      "outputs": [
        {
          "output_type": "stream",
          "name": "stdout",
          "text": [
            "['Quant', 'Connect', 'go', 2, 3]\n"
          ]
        }
      ]
    },
    {
      "cell_type": "markdown",
      "metadata": {
        "id": "EQPs5ojoTVrk"
      },
      "source": [
        "A list can also be sliced with a colon:"
      ]
    },
    {
      "cell_type": "code",
      "metadata": {
        "colab": {
          "base_uri": "https://localhost:8080/"
        },
        "id": "keNX2RbtOqii",
        "outputId": "01219718-8be6-4b02-b241-f1747bea9ab5"
      },
      "source": [
        "my_list = ['Quant','Connect',1,2,3]\n",
        "print(my_list[1:3]) #imprime solo los elementos entre la posicion 1 y la 3 (sin incluirlo)"
      ],
      "execution_count": null,
      "outputs": [
        {
          "output_type": "stream",
          "name": "stdout",
          "text": [
            "['Connect', 1]\n"
          ]
        }
      ]
    },
    {
      "cell_type": "markdown",
      "metadata": {
        "id": "AZqQd0K8TYul"
      },
      "source": [
        "The slice starts from the first element indicated, but excludes the last element indicated. Here we select all elements starting from index 1, which refers to the second element:"
      ]
    },
    {
      "cell_type": "code",
      "metadata": {
        "colab": {
          "base_uri": "https://localhost:8080/"
        },
        "id": "0-76sLfkOqii",
        "outputId": "e0507043-0cd4-491b-bb9f-26100bf5ffd1"
      },
      "source": [
        "print(my_list[1:]) #imprime solo los elementos desde la posicion 1 en adelante"
      ],
      "execution_count": null,
      "outputs": [
        {
          "output_type": "stream",
          "name": "stdout",
          "text": [
            "['Connect', 1, 2, 3]\n"
          ]
        }
      ]
    },
    {
      "cell_type": "markdown",
      "metadata": {
        "id": "XBqvhUdZVKWs"
      },
      "source": [
        "And all elements up to but excluding index 3:"
      ]
    },
    {
      "cell_type": "code",
      "metadata": {
        "colab": {
          "base_uri": "https://localhost:8080/"
        },
        "id": "5NWr75L9Oqii",
        "outputId": "4b51d4c2-40d5-495c-cc54-cefab7fbea0e"
      },
      "source": [
        "print(my_list[:3]) #imprime todos los elementos hasta la posicion 3 (sin incluirlo)"
      ],
      "execution_count": null,
      "outputs": [
        {
          "output_type": "stream",
          "name": "stdout",
          "text": [
            "['Quant', 'Connect', 1]\n"
          ]
        }
      ]
    },
    {
      "cell_type": "markdown",
      "metadata": {
        "id": "eAFmM6bkTZz9"
      },
      "source": [
        "If you wish to add or remove an element from a list, you can use the append() and remove() methods for lists as follows:"
      ]
    },
    {
      "cell_type": "code",
      "metadata": {
        "colab": {
          "base_uri": "https://localhost:8080/"
        },
        "id": "pHmgTPElTo19",
        "outputId": "ec107852-3c63-4766-a60e-5ac8afc66008"
      },
      "source": [
        "my_list = ['Hello', 'Quant']\n",
        "my_list.append('Hello') #añade un elemento a la lista al final de la lista\n",
        "print(my_list)\n",
        "\n"
      ],
      "execution_count": null,
      "outputs": [
        {
          "output_type": "stream",
          "name": "stdout",
          "text": [
            "['Hello', 'Quant', 'Hello']\n"
          ]
        }
      ]
    },
    {
      "cell_type": "code",
      "metadata": {
        "colab": {
          "base_uri": "https://localhost:8080/"
        },
        "id": "4C4U1Yf0Tr8l",
        "outputId": "e53d3f80-9f08-4bc7-8659-655418704265"
      },
      "source": [
        "my_list.remove('Hello') #elimina el primer elemento que coincide con el nombre de la lista\n",
        "print(my_list)"
      ],
      "execution_count": null,
      "outputs": [
        {
          "output_type": "stream",
          "name": "stdout",
          "text": [
            "['Quant', 'Hello']\n"
          ]
        }
      ]
    },
    {
      "cell_type": "markdown",
      "metadata": {
        "id": "11W1gG-cVmOU"
      },
      "source": [
        "When there are repeated instances of \"Hello\", the first one is removed.\n",
        "\n",
        "## Tuple\n",
        "A tuple is a data structure type similar to a list. The difference is that a tuple is immutable, which means you can't change the elements in it once it's defined. We create a tuple by putting comma-separated values between parentheses."
      ]
    },
    {
      "cell_type": "code",
      "metadata": {
        "collapsed": true,
        "id": "vPmn6BAaOqii"
      },
      "source": [
        "my_tuple = ('Welcome','to','QuantConnect') #crea una tupla"
      ],
      "execution_count": null,
      "outputs": []
    },
    {
      "cell_type": "markdown",
      "metadata": {
        "id": "zMIme4dDV0Wz"
      },
      "source": [
        "Just like a list, a tuple can be sliced by using index."
      ]
    },
    {
      "cell_type": "code",
      "metadata": {
        "colab": {
          "base_uri": "https://localhost:8080/"
        },
        "id": "8P-ddO0sOqii",
        "outputId": "59410ade-8f39-420d-e0cc-cae6c015e1cf"
      },
      "source": [
        "my_tuple = ('Welcome','to','QuantConnect') \n",
        "print(my_tuple[1:]) #imprime los elementos desde la posicion 1 en adelante de la tupla"
      ],
      "execution_count": null,
      "outputs": [
        {
          "output_type": "stream",
          "name": "stdout",
          "text": [
            "('to', 'QuantConnect')\n"
          ]
        }
      ]
    },
    {
      "cell_type": "markdown",
      "metadata": {
        "id": "l2JqbusAV1Y2"
      },
      "source": [
        "## Set\n",
        "A set is an **unordered**  collection with **no duplicate** elements. The built-in function **set()** can be used to create sets."
      ]
    },
    {
      "cell_type": "code",
      "metadata": {
        "colab": {
          "base_uri": "https://localhost:8080/"
        },
        "id": "Plau8r-UOqij",
        "outputId": "38956220-c75c-4046-ebfa-810880ea19f4"
      },
      "source": [
        "stock_list = ['AAPL','GOOG','IBM','AAPL','IBM','FB','F','GOOG'] #crea una lista\n",
        "stock_set = set(stock_list) #convierte la lista en set\n",
        "print(stock_set) #impime el set (ignora las posiciones y los elementos repetidos)"
      ],
      "execution_count": null,
      "outputs": [
        {
          "output_type": "stream",
          "name": "stdout",
          "text": [
            "{'FB', 'IBM', 'AAPL', 'GOOG', 'F'}\n"
          ]
        }
      ]
    },
    {
      "cell_type": "markdown",
      "metadata": {
        "id": "Jyb4GGIoWIHk"
      },
      "source": [
        "Set is an easy way to remove duplicate elements from a list.\n",
        "\n",
        "##Dictionary\n",
        "A dictionary is one of the most important data structures in Python. Unlike sequences which are indexed by integers, dictionaries are indexed by keys which can be either strings or floats.\n",
        "\n",
        "A dictionary is an **unordered** collection of key : value pairs, with the requirement that the keys are unique. We create a dictionary by placing a comma-separated list of key : value pairs within the braces."
      ]
    },
    {
      "cell_type": "code",
      "metadata": {
        "collapsed": true,
        "id": "36mTe5BaOqij"
      },
      "source": [
        "my_dic = {'AAPL':'AAPLE', 'FB':'FaceBook', 'GOOG':'Alphabet'} #crea un diccionario"
      ],
      "execution_count": null,
      "outputs": []
    },
    {
      "cell_type": "code",
      "metadata": {
        "colab": {
          "base_uri": "https://localhost:8080/"
        },
        "id": "KUfdVf43Oqij",
        "outputId": "4295a710-1edd-4b8c-b1fd-2610cfbf9146"
      },
      "source": [
        "print(my_dic['GOOG']) #imprime el valor almacenado en la key de \"GOOG\""
      ],
      "execution_count": null,
      "outputs": [
        {
          "output_type": "stream",
          "name": "stdout",
          "text": [
            "Alphabet\n"
          ]
        }
      ]
    },
    {
      "cell_type": "markdown",
      "metadata": {
        "id": "gSicoNqDWP4c"
      },
      "source": [
        "After defining a dictionary, we can access any value by indicating its key in brackets."
      ]
    },
    {
      "cell_type": "code",
      "metadata": {
        "colab": {
          "base_uri": "https://localhost:8080/"
        },
        "id": "IrTZdq9FOqij",
        "outputId": "d5ccdda2-e268-4fe7-b79a-05487f00cf0e"
      },
      "source": [
        "my_dic['GOOG'] = 'Alphabet Company' #añade un nuevo valor a la key \"GOOG\"\n",
        "print(my_dic['GOOG']) #imprime todo lo almacenado en la key \"GOOG\""
      ],
      "execution_count": null,
      "outputs": [
        {
          "output_type": "stream",
          "name": "stdout",
          "text": [
            "Alphabet Company\n"
          ]
        }
      ]
    },
    {
      "cell_type": "markdown",
      "metadata": {
        "id": "M9sDsTEMWQvc"
      },
      "source": [
        "We can also change the value associated with a specified key:"
      ]
    },
    {
      "cell_type": "code",
      "metadata": {
        "colab": {
          "base_uri": "https://localhost:8080/"
        },
        "id": "lupRHf1_Oqij",
        "outputId": "315ce30c-459c-4a59-fef1-8844e30253bb"
      },
      "source": [
        "print(my_dic.keys()) #imprime todas las keys de un diccionario"
      ],
      "execution_count": null,
      "outputs": [
        {
          "output_type": "stream",
          "name": "stdout",
          "text": [
            "dict_keys(['AAPL', 'FB', 'GOOG'])\n"
          ]
        }
      ]
    },
    {
      "cell_type": "markdown",
      "metadata": {
        "id": "VPuDinlwWS9D"
      },
      "source": [
        "The built-in method of the dictionary object dict.keys() returns a list of all the keys used in the dictionary."
      ]
    },
    {
      "cell_type": "markdown",
      "metadata": {
        "id": "kSGzgNb2Womz"
      },
      "source": [
        "# Common String Operations\n",
        "A string is an immutable sequence of characters. It can be sliced by index just like a tuple:"
      ]
    },
    {
      "cell_type": "code",
      "metadata": {
        "colab": {
          "base_uri": "https://localhost:8080/"
        },
        "id": "xPojDnm9Oqik",
        "outputId": "6566c80c-e15d-4a63-e34a-6e3c9393d71e"
      },
      "source": [
        "my_str = 'Welcome to QuantConnect'\n",
        "print(my_str[8:]) #imprime todos los caracteres desde la posicion 8 en adelante"
      ],
      "execution_count": null,
      "outputs": [
        {
          "output_type": "stream",
          "name": "stdout",
          "text": [
            "to QuantConnect\n"
          ]
        }
      ]
    },
    {
      "cell_type": "markdown",
      "metadata": {
        "id": "wuJYy7tvWtM7"
      },
      "source": [
        "There are many methods associated with strings. We can use string.count() to count the occurrences of a character in a string, use string.find() to return the index of a specific character, and use string.replace() to replace characters"
      ]
    },
    {
      "cell_type": "code",
      "metadata": {
        "colab": {
          "base_uri": "https://localhost:8080/"
        },
        "id": "u9deZq1SOqik",
        "outputId": "76dd7ace-0e6c-4768-f67d-4eaeac8d5bd8"
      },
      "source": [
        "print('Counting the number of e appears in this sentence'.count('e')) #imprime la cuenta las veses que aparece la 3\n",
        "print('The first time e appears in this sentence'.find('e')) #imprime la posicion donde encuentra la 1ra e\n",
        "print('all the a in this sentence now becomes e'.replace('a','e')) #imprime el reemplazo de las letras a por e"
      ],
      "execution_count": null,
      "outputs": [
        {
          "output_type": "stream",
          "name": "stdout",
          "text": [
            "7\n",
            "2\n",
            "ell the e in this sentence now becomes e\n"
          ]
        }
      ]
    },
    {
      "cell_type": "markdown",
      "metadata": {
        "id": "sJPn3rkvWwHN"
      },
      "source": [
        "The most commonly used method for strings is string.split(). This method will split the string by the indicated character and return a list:"
      ]
    },
    {
      "cell_type": "code",
      "metadata": {
        "colab": {
          "base_uri": "https://localhost:8080/"
        },
        "id": "hbIaFLFHOqik",
        "outputId": "e135eb46-22eb-4a87-8042-eed2ad79c828"
      },
      "source": [
        "Time = '2016-04-01 09:43:00'\n",
        "splited_list = Time.split(' ') #genera una lista donde corta el string en cada espacio\n",
        "date = splited_list[0] #asigma el primer elemento a la variable date\n",
        "time = splited_list[1] #asigma el 2do elemento a la variable time\n",
        "print(date, time) #imprime las variables date y time\n",
        "hour = time.split(':')[0] #selecciona el primer elemento de la lista de elementos de time separados por :\n",
        "print(hour) #imprime la variable hora (que seria solo la hora del time)"
      ],
      "execution_count": null,
      "outputs": [
        {
          "output_type": "stream",
          "name": "stdout",
          "text": [
            "2016-04-01 09:43:00\n",
            "09\n"
          ]
        }
      ]
    },
    {
      "cell_type": "markdown",
      "metadata": {
        "id": "9cJQGk96WyVc"
      },
      "source": [
        "We can replace parts of a string by our variable. This is called string formatting."
      ]
    },
    {
      "cell_type": "code",
      "metadata": {
        "colab": {
          "base_uri": "https://localhost:8080/"
        },
        "id": "-E_rIvv6Oqik",
        "outputId": "bec9b731-c4d5-4905-9154-ef979efd6dd0"
      },
      "source": [
        "my_time = 'Hour: {}, Minute:{}'.format('09','43') #cada {} identifica una variable para llenar el espacio, en este caso serian \"09\" y \"43\"\n",
        "print(my_time)"
      ],
      "execution_count": null,
      "outputs": [
        {
          "output_type": "stream",
          "name": "stdout",
          "text": [
            "Hour: 09, Minute:43\n"
          ]
        }
      ]
    },
    {
      "cell_type": "markdown",
      "metadata": {
        "id": "1_NbVldpWzAs"
      },
      "source": [
        "Another way to format a string is to use the % symbol."
      ]
    },
    {
      "cell_type": "code",
      "metadata": {
        "colab": {
          "base_uri": "https://localhost:8080/"
        },
        "id": "4rZ4rkD2Oqik",
        "outputId": "cd5d93b8-56d7-4406-9c43-d84144bded85"
      },
      "source": [
        "print('the pi number is %f'%3.14) #la misma forma de formatear que arriba pero usando % y la f de flotante\n",
        "print('%s to %s'%('Welcome','Quantconnect')) #s de string"
      ],
      "execution_count": null,
      "outputs": [
        {
          "output_type": "stream",
          "name": "stdout",
          "text": [
            "the pi number is 3.140000\n",
            "Welcome to Quantconnect\n"
          ]
        }
      ]
    },
    {
      "cell_type": "markdown",
      "metadata": {
        "id": "v_5cocrDW3MN"
      },
      "source": [
        "# Summary\n",
        "\n",
        "Weave seen the basic data types and data structures in Python. It's important to keep practicing to become familiar with these data structures. In the next tutorial, we will cover for and while loops and logical operations in Python."
      ]
    },
    {
      "cell_type": "markdown",
      "metadata": {
        "id": "QL6dNxwCXNEt"
      },
      "source": [
        "<div align=\"center\">\n",
        "<img style=\"display: block; margin: auto;\" alt=\"photo\" src=\"https://cdn.quantconnect.com/web/i/icon.png\">\n",
        "\n",
        "Quantconnect\n",
        "\n",
        "Introduction to Financial Python\n",
        "</div>\n",
        "\n",
        "# 02 Logical Operations and Loops\n",
        "\n",
        "# Introduction\n",
        "We discussed the basic data types and data structures in Python in the last tutorial. This chapter covers logical operations and loops in Python, which are very common in programming.\n",
        "\n",
        "# Logical Operations\n",
        "Like most programming languages, Python has comparison operators:"
      ]
    },
    {
      "cell_type": "code",
      "metadata": {
        "colab": {
          "base_uri": "https://localhost:8080/"
        },
        "id": "70Guys_rOv7a",
        "outputId": "220ac34e-d9dd-4a30-9400-0fd74d9a0158"
      },
      "source": [
        "print(1 == 0) #igualdad\n",
        "print(1 == 1) #igualdad\n",
        "print(1 != 0) #Diferencia\n",
        "print(5 >= 5) #mayor o igual\n",
        "print(5 >= 6) #Mayor o igual"
      ],
      "execution_count": null,
      "outputs": [
        {
          "output_type": "stream",
          "name": "stdout",
          "text": [
            "False\n",
            "True\n",
            "True\n",
            "True\n",
            "False\n"
          ]
        }
      ]
    },
    {
      "cell_type": "markdown",
      "metadata": {
        "id": "8aFHYDj-YTXt"
      },
      "source": [
        "Each statement above has a boolean value, which must be either True or False, but not both.\n",
        "\n",
        "We can combine simple statements P and Q to form complex statements using logical operators:\n",
        "\n",
        "- The statement \"P and Q\" is true if both P and Q are true, otherwise it is false.\n",
        "- The statement \"P or Q\" is false if both P and Q are false, otherwise it is true.\n",
        "- The statement \"not P\" is true if P is false, and vice versa."
      ]
    },
    {
      "cell_type": "code",
      "metadata": {
        "colab": {
          "base_uri": "https://localhost:8080/"
        },
        "id": "O5YEEcUbOv7d",
        "outputId": "b0b66a4b-5e0b-493a-912d-ea3970a5026c"
      },
      "source": [
        "print(2 > 1 and 3 > 2) #AND\n",
        "print(2 > 1 and 3 < 2) #OR\n",
        "print(2 > 1 or 3 < 2) #Or\n",
        "print(2 < 1 and 3 < 2) #AND"
      ],
      "execution_count": null,
      "outputs": [
        {
          "output_type": "stream",
          "name": "stdout",
          "text": [
            "True\n",
            "False\n",
            "True\n",
            "False\n"
          ]
        }
      ]
    },
    {
      "cell_type": "markdown",
      "metadata": {
        "id": "Dy7yzoSXYXmL"
      },
      "source": [
        "When dealing with a very complex logical statement that involves in several statements, we can use brackets to separate and combine them."
      ]
    },
    {
      "cell_type": "code",
      "metadata": {
        "colab": {
          "base_uri": "https://localhost:8080/"
        },
        "id": "QZ-W2xJZOv7d",
        "outputId": "25b7e3d0-7d41-4af4-ade3-bb35f2d469b9"
      },
      "source": [
        "print((3 > 2 or 1 < 3) and (1!=3 and 4>3) and not ( 3 < 2 or 1 < 3 and (1!=3 and 4>3))) # Operacion compleja de diferencias, mayores y menores que, y la negacion con \"not\"\n",
        "print(3 > 2 or 1 < 3 and (1!=3 and 4>3) and not ( 3 < 2 or 1 < 3 and (1!=3 and 4>3))) # mas Operaciones booleanas"
      ],
      "execution_count": null,
      "outputs": [
        {
          "output_type": "stream",
          "name": "stdout",
          "text": [
            "False\n",
            "True\n"
          ]
        }
      ]
    },
    {
      "cell_type": "markdown",
      "metadata": {
        "id": "s95xoRYMYaPD"
      },
      "source": [
        "Comparing the above two statements, we can see that it's wise to use brackets when we make a complex logical statement.\n",
        "\n",
        "# If Statement\n",
        "An if statement executes a segment of code only if its condition is true. A standard if statement consists of 3 segments: if, elif and else."
      ]
    },
    {
      "cell_type": "markdown",
      "metadata": {
        "id": "aRzMMitAaBOL"
      },
      "source": [
        "```python\n",
        "if statement1:\n",
        "    # if the statement1 is true, execute the code here.\n",
        "    # code.....\n",
        "    # code.....\n",
        "elif statement2:\n",
        "    # if the statement 1 is false, skip the codes above to this part.\n",
        "    # code......\n",
        "    # code......\n",
        "else:\n",
        "    # if none of the above statements is True, skip to this part\n",
        "    # code......\n",
        "```"
      ]
    },
    {
      "cell_type": "markdown",
      "metadata": {
        "id": "l59R2AS8aH2K"
      },
      "source": [
        "An if statement doesn't necessarily has elif and else part. If it's not specified, the indented block of code will be executed when the condition is true, otherwise the whole if statement will be skipped."
      ]
    },
    {
      "cell_type": "code",
      "metadata": {
        "colab": {
          "base_uri": "https://localhost:8080/"
        },
        "id": "FZ5GoTXfOv7e",
        "outputId": "3e491f24-5e60-4ae8-8708-6af02357a24f"
      },
      "source": [
        "i = 0\n",
        "if i == 0: #si se cumple 1==0\n",
        "    print('i==0 is True') #se imprime, debe esta tabulado con relacion al if"
      ],
      "execution_count": null,
      "outputs": [
        {
          "output_type": "stream",
          "name": "stdout",
          "text": [
            "i==0 is True\n"
          ]
        }
      ]
    },
    {
      "cell_type": "markdown",
      "metadata": {
        "id": "nPNW-l5eaJn8"
      },
      "source": [
        "As we mentioned above, we can write some complex statements here:"
      ]
    },
    {
      "cell_type": "code",
      "metadata": {
        "colab": {
          "base_uri": "https://localhost:8080/"
        },
        "id": "gh-U6nMzOv7e",
        "outputId": "278c09cc-10be-4372-f22e-29c1a5ee5f8b"
      },
      "source": [
        "p = 1 > 0\n",
        "q = 2 > 3\n",
        "if p and q: #si p y q verdad se cumple se imprime el texto de abajo\n",
        "    print('p and q is true')\n",
        "elif p and not q: #si p verdad y q falso, se imprime\n",
        "    print('q is false')\n",
        "elif q and not p: #si p falso y q verdad se imprime\n",
        "    print('p is false')\n",
        "else: #cuando ninguno de los casos superiores se cumple\n",
        "    print('None of p and q is true')"
      ],
      "execution_count": null,
      "outputs": [
        {
          "output_type": "stream",
          "name": "stdout",
          "text": [
            "q is false\n"
          ]
        }
      ]
    },
    {
      "cell_type": "markdown",
      "metadata": {
        "id": "tgRDwiAsaMOL"
      },
      "source": [
        "# Loop Structure\n",
        "Loops are an essential part of programming. The \"for\" and \"while\" loops run a block of code repeatedly.\n",
        "\n",
        "## While Loop\n",
        "A \"while\" loop will run repeatedly until a certain condition has been met."
      ]
    },
    {
      "cell_type": "code",
      "metadata": {
        "colab": {
          "base_uri": "https://localhost:8080/"
        },
        "id": "uQLau8d5Ov7f",
        "outputId": "aa7e27c1-cbf5-4347-89fb-a2b9558c5e78"
      },
      "source": [
        "i = 0 #se crea una variable en 0\n",
        "while i < 5: #mientras i sea menor que 0\n",
        "    print(i) #imprime\n",
        "    i += 1 #i se le suma 1"
      ],
      "execution_count": null,
      "outputs": [
        {
          "output_type": "stream",
          "name": "stdout",
          "text": [
            "0\n",
            "1\n",
            "2\n",
            "3\n",
            "4\n"
          ]
        }
      ]
    },
    {
      "cell_type": "markdown",
      "metadata": {
        "id": "ydLddFAPaTOE"
      },
      "source": [
        "When making a while loop, we need to ensure that something changes from iteration to iteration so that the while loop will terminate, otherwise, it will run forever. Here we used i += 1 (short for i = i + 1) to make i larger after each iteration. This is the most commonly used method to control a while loop.\n",
        "\n",
        "## For Loop\n",
        "A \"for\" loop will iterate over a sequence of value and terminate when the sequence has ended."
      ]
    },
    {
      "cell_type": "code",
      "metadata": {
        "colab": {
          "base_uri": "https://localhost:8080/"
        },
        "id": "kt8Ie8u1Ov7f",
        "outputId": "3e598608-0d6f-4e1c-b3fc-34d06ff14eb8"
      },
      "source": [
        "for i in [1,2,3,4,5]: #un for por cada elemento contenido en la lista\n",
        "    print(i) #imprime el elemento de la lista en donde va la iteracion"
      ],
      "execution_count": null,
      "outputs": [
        {
          "output_type": "stream",
          "name": "stdout",
          "text": [
            "1\n",
            "2\n",
            "3\n",
            "4\n",
            "5\n"
          ]
        }
      ]
    },
    {
      "cell_type": "markdown",
      "metadata": {
        "id": "yWStqpreaX-T"
      },
      "source": [
        "We can also add if statements in a for loop. Here is a real example from our pairs trading algorithm:"
      ]
    },
    {
      "cell_type": "code",
      "metadata": {
        "colab": {
          "base_uri": "https://localhost:8080/"
        },
        "id": "kElmffvFOv7f",
        "outputId": "4db38209-163a-4c78-a4ac-76848a32cca5"
      },
      "source": [
        "stocks = ['AAPL','GOOG','IBM','FB','F','V', 'G', 'GE']\n",
        "selected = ['AAPL','IBM']\n",
        "new_list = []\n",
        "for i in stocks: #un for por cada elemento contenido en la lista\n",
        "    if i not in selected: # si el elemento de la iteracion no se encuentra en la lista de selected\n",
        "        new_list.append(i) # se añade\n",
        "print(stocks) # imprime la lista con la que se inicio\n",
        "print(selected) # imprime la lista con la que se inicio\n",
        "print(new_list) # imprime la lista resultante de stocks menos selected"
      ],
      "execution_count": 2,
      "outputs": [
        {
          "output_type": "stream",
          "name": "stdout",
          "text": [
            "['AAPL', 'GOOG', 'IBM', 'FB', 'F', 'V', 'G', 'GE']\n",
            "['AAPL', 'IBM']\n",
            "['GOOG', 'FB', 'F', 'V', 'G', 'GE']\n"
          ]
        }
      ]
    },
    {
      "cell_type": "markdown",
      "metadata": {
        "id": "wb2hry9dahE0"
      },
      "source": [
        "Here we iterated all the elements in the list 'stocks'. Later in this chapter, we will introduce a smarter way to do this, which is just a one-line code.\n",
        "\n",
        "## Break and continue\n",
        "These are two commonly used commands in a for loop. If \"break\" is triggered while a loop is executing, the loop will terminate immediately:"
      ]
    },
    {
      "cell_type": "code",
      "metadata": {
        "colab": {
          "base_uri": "https://localhost:8080/"
        },
        "id": "yF5wMVItOv7g",
        "outputId": "2eb40fb9-fe33-4936-b6dd-84614f6dcba9"
      },
      "source": [
        "stocks = ['AAPL','GOOG','IBM','FB','F','V', 'G', 'GE']\n",
        "for i in stocks:\n",
        "    print(i)\n",
        "    if i == 'FB': # si encuetro el elemento de la iteracion cumple con que es \"FB\"\n",
        "        break  # Finalizo el for"
      ],
      "execution_count": null,
      "outputs": [
        {
          "output_type": "stream",
          "name": "stdout",
          "text": [
            "AAPL\n",
            "GOOG\n",
            "IBM\n",
            "FB\n"
          ]
        }
      ]
    },
    {
      "cell_type": "markdown",
      "metadata": {
        "id": "R0toxyp3ao0T"
      },
      "source": [
        "The \"continue\" command tells the loop to end this iteration and skip to the next iteration:"
      ]
    },
    {
      "cell_type": "code",
      "metadata": {
        "colab": {
          "base_uri": "https://localhost:8080/"
        },
        "id": "Stg-CH6IOv7g",
        "outputId": "7bff9c13-2d53-4ccc-e070-f4de7234d8cf"
      },
      "source": [
        "stocks = ['AAPL','GOOG','IBM','FB','F','V', 'G', 'GE']\n",
        "for i in stocks:\n",
        "    if i == 'FB':\n",
        "        continue # se salta el item i y sigue el for con el siguiente\n",
        "    print(i)"
      ],
      "execution_count": null,
      "outputs": [
        {
          "output_type": "stream",
          "name": "stdout",
          "text": [
            "AAPL\n",
            "GOOG\n",
            "IBM\n",
            "F\n",
            "V\n",
            "G\n",
            "GE\n"
          ]
        }
      ]
    },
    {
      "cell_type": "markdown",
      "metadata": {
        "id": "4NusvdhBaxpZ"
      },
      "source": [
        "# List Comprehension\n",
        "List comprehension is a Pythonic way to create lists. Common applications are to make new lists where each element is the result of some operations applied to each member of another sequence. For example, if we want to create a list of squares using for loop:"
      ]
    },
    {
      "cell_type": "code",
      "metadata": {
        "colab": {
          "base_uri": "https://localhost:8080/"
        },
        "id": "bdxxeOABOv7h",
        "outputId": "4c976f98-d139-4d13-afbf-4b2f45a6698e"
      },
      "source": [
        "squares = []\n",
        "for i in [1,2,3,4,5]:\n",
        "    squares.append(i**2) #Añade a la lista squares el elemento de la lista a la potencia de 2\n",
        "print(squares)"
      ],
      "execution_count": null,
      "outputs": [
        {
          "output_type": "stream",
          "name": "stdout",
          "text": [
            "[1, 4, 9, 16, 25]\n"
          ]
        }
      ]
    },
    {
      "cell_type": "markdown",
      "metadata": {
        "id": "--KliJBOa1CC"
      },
      "source": [
        "Using list comprehension:"
      ]
    },
    {
      "cell_type": "code",
      "metadata": {
        "colab": {
          "base_uri": "https://localhost:8080/"
        },
        "id": "440-yjG8Ov7h",
        "outputId": "1c88bee5-e7e3-4f2b-db4f-b1e2fdc3b79f"
      },
      "source": [
        "list = [1,2,3,4,5]\n",
        "squares = [x**2 for x in list] #lo mismo de arriba pero compacto en una linea\n",
        "print(squares)"
      ],
      "execution_count": 12,
      "outputs": [
        {
          "output_type": "stream",
          "name": "stdout",
          "text": [
            "[1, 4, 9, 16, 25]\n"
          ]
        }
      ]
    },
    {
      "cell_type": "markdown",
      "metadata": {
        "id": "uMuCfR3ya3zT"
      },
      "source": [
        "Recall the example above where we used a for loop to select stocks. Here we use list comprehension:"
      ]
    },
    {
      "cell_type": "code",
      "metadata": {
        "colab": {
          "base_uri": "https://localhost:8080/"
        },
        "id": "ZGtCtog2Ov7h",
        "outputId": "97ebb092-5c56-4e1b-ab4c-6486642252bb"
      },
      "source": [
        "stocks = ['AAPL','GOOG','IBM','FB','F','V', 'G', 'GE']\n",
        "selected = ['AAPL','IBM']\n",
        "new_list = [x for x in stocks if x in selected] # la misma compreension del ejercicio de arriba pero aplicado a las listas stocks y selected\n",
        "print(new_list)"
      ],
      "execution_count": null,
      "outputs": [
        {
          "output_type": "stream",
          "name": "stdout",
          "text": [
            "['AAPL', 'IBM']\n"
          ]
        }
      ]
    },
    {
      "cell_type": "markdown",
      "metadata": {
        "id": "EPeUv6Lia5oD"
      },
      "source": [
        "A list comprehension consists of square brackets containing an expression followed by a \"for\" clause, and possibly \"for\" or \"if\" clauses. For example:"
      ]
    },
    {
      "cell_type": "code",
      "metadata": {
        "colab": {
          "base_uri": "https://localhost:8080/"
        },
        "id": "O1AMB5d7Ov7i",
        "outputId": "3585c3be-f0d4-4340-fcb1-dcd256dc8504"
      },
      "source": [
        "print([(x, y) for x in [1,2,3] for y in [3,1,4] if x != y]) #imprime todas las parejas entre las 2 listas mientras no sean el mismo numero\n",
        "print([str(x)+' vs '+str(y) for x in ['AAPL','GOOG','IBM','FB'] for y in ['F','V','G','GE'] if x!=y]) #imprime todas las parejas entre las 2 listas mientras no sean el mismo texto"
      ],
      "execution_count": null,
      "outputs": [
        {
          "output_type": "stream",
          "name": "stdout",
          "text": [
            "[(1, 3), (1, 4), (2, 3), (2, 1), (2, 4), (3, 1), (3, 4)]\n",
            "['AAPL vs F', 'AAPL vs V', 'AAPL vs G', 'AAPL vs GE', 'GOOG vs F', 'GOOG vs V', 'GOOG vs G', 'GOOG vs GE', 'IBM vs F', 'IBM vs V', 'IBM vs G', 'IBM vs GE', 'FB vs F', 'FB vs V', 'FB vs G', 'FB vs GE']\n"
          ]
        }
      ]
    },
    {
      "cell_type": "markdown",
      "metadata": {
        "id": "jJpvq-o4a8P7"
      },
      "source": [
        "List comprehension is an elegant way to organize one or more for loops when creating a list.\n",
        "\n",
        "# Summary\n",
        "This chapter has introduced logical operations, loops, and list comprehension. In the next chapter, we will introduce functions and object-oriented programming, which will enable us to make our codes clean and versatile."
      ]
    },
    {
      "cell_type": "markdown",
      "metadata": {
        "id": "Tef_X2wJbdhn"
      },
      "source": [
        "<div align=\"center\">\n",
        "<img style=\"display: block; margin: auto;\" alt=\"photo\" src=\"https://cdn.quantconnect.com/web/i/icon.png\">\n",
        "\n",
        "Quantconnect\n",
        "\n",
        "Introduction to Financial Python\n",
        "</div>\n",
        "\n",
        "# 03 Functions and Objective-Oriented Programming\n",
        "\n",
        "# Introduction\n",
        "\n",
        "In the last tutorial we introduced logical operations, loops and list comprehension. We will introduce functions and object-oriented programming in this chapter, which will enable us to build complex algorithms in more flexible ways.\n",
        "\n",
        "# Functions\n",
        "A function is a reusable block of code. We can use a function to output a value, or do anything else we want. We can easily define our own function by using the keyword \"def\"."
      ]
    },
    {
      "cell_type": "code",
      "metadata": {
        "colab": {
          "base_uri": "https://localhost:8080/"
        },
        "id": "eE_NkTiSO2PO",
        "outputId": "d2492acb-e355-4f23-88eb-9a8a410aec5e"
      },
      "source": [
        "def product(x,y): # crea una nueva funcion con 2 parametros\n",
        "    return x*y #retorna el valor de la funcion la multiplicacion de los 2 parametros\n",
        "print(product(2,3))\n",
        "print(product(5,10))"
      ],
      "execution_count": null,
      "outputs": [
        {
          "output_type": "stream",
          "name": "stdout",
          "text": [
            "6\n",
            "50\n"
          ]
        }
      ]
    },
    {
      "cell_type": "markdown",
      "metadata": {
        "id": "4oRU_dVJbsdD"
      },
      "source": [
        "The keyword \"def\" is followed by the function name and the parenthesized list of formal parameters. The statements that form the body of the function start at the next line, and must be indented. The product() function above has \"x\" and \"y\" as its parameters. A function doesn't necessarily have parameters:"
      ]
    },
    {
      "cell_type": "code",
      "metadata": {
        "colab": {
          "base_uri": "https://localhost:8080/"
        },
        "id": "JhdWVLbUO2PQ",
        "outputId": "0c544747-1d2c-444f-cc68-81d53a29aa66"
      },
      "source": [
        "def say_hi(): #def es una palabra clave para crear funciones, en este caso say_hi\n",
        "    print('Welcome to QuantConnect') #Imprimir un texto\n",
        "say_hi() #llama a la funcion"
      ],
      "execution_count": null,
      "outputs": [
        {
          "output_type": "stream",
          "name": "stdout",
          "text": [
            "Welcome to QuantConnect\n"
          ]
        }
      ]
    },
    {
      "cell_type": "markdown",
      "metadata": {
        "id": "lHwqVpWVb1Jr"
      },
      "source": [
        "# Built-in Function\n",
        "**range()** is a function that creates a list containing an arithmetic sequence. It's often used in for loops. The arguments must be integers. If the \"step\" argument is omitted, it defaults to 1."
      ]
    },
    {
      "cell_type": "code",
      "metadata": {
        "colab": {
          "base_uri": "https://localhost:8080/"
        },
        "id": "VVOTELcIO2PQ",
        "outputId": "f56fba87-1a8e-4283-dac9-60b0bb5a27d3"
      },
      "source": [
        "print(range(10)) #Crea una lista con la secuencia de 0 a 10\n",
        "print(range(1,11)) #Crea una lista con la secuencia de 1 a 11\n",
        "print(range(1,11,2)) #Crea una lista con la secuencia de 1 a 11 cada 2 elementos"
      ],
      "execution_count": 7,
      "outputs": [
        {
          "output_type": "stream",
          "name": "stdout",
          "text": [
            "range(0, 10)\n",
            "range(1, 11)\n",
            "range(1, 11, 2)\n"
          ]
        }
      ]
    },
    {
      "cell_type": "markdown",
      "metadata": {
        "id": "PD0cSgiwcQ4L"
      },
      "source": [
        "**len()** is another function used together with range() to create a for loop. This function returns the length of an object. The argument must be a sequence or a collection."
      ]
    },
    {
      "cell_type": "code",
      "metadata": {
        "colab": {
          "base_uri": "https://localhost:8080/"
        },
        "id": "Hg18c7v-O2PR",
        "outputId": "b791e428-79b1-4cd5-e533-77579da45efa"
      },
      "source": [
        "tickers = ['AAPL','GOOG','IBM','FB','F','V', 'G', 'GE']\n",
        "print('The length of tickers is {}'.format(len(tickers))) #en el {} se ubica el valor de len(tickers) que es la longitud de la lista tickers\n",
        "for i in range(len(tickers)): #crea un for que recorre todos los elementos de tickets sin necesidad de conocer el valor\n",
        "    print(tickers[i]) #imprime cada iteracion"
      ],
      "execution_count": 15,
      "outputs": [
        {
          "output_type": "stream",
          "name": "stdout",
          "text": [
            "The length of tickers is 8\n",
            "AAPL\n",
            "GOOG\n",
            "IBM\n",
            "FB\n",
            "F\n",
            "V\n",
            "G\n",
            "GE\n"
          ]
        }
      ]
    },
    {
      "cell_type": "markdown",
      "metadata": {
        "id": "OIQSuub1cWgi"
      },
      "source": [
        "Note: If you want to print only the tickers without those numbers, then simply write \"for ticker in tickers: print ticker\"\n",
        "\n",
        "**map(**) is a function that applies a specific function to every item of a sequence or collection, and returns a list of the results."
      ]
    },
    {
      "cell_type": "markdown",
      "metadata": {
        "id": "pqPuspeG5HAi"
      },
      "source": [
        "Because list at the moment is [1,2,3,4,5] and overwriting list() from builtins we del list"
      ]
    },
    {
      "cell_type": "code",
      "metadata": {
        "colab": {
          "base_uri": "https://localhost:8080/"
        },
        "id": "caV9c-qk4_eZ",
        "outputId": "4091407e-64d4-4a11-ad60-edddf3a5c454"
      },
      "source": [
        "print(list) #Imprime la lista almacenada arriba\n",
        "del list #elimina la lista\n",
        "list #sobreescribe la lista convirtiendola en una funcion?"
      ],
      "execution_count": 13,
      "outputs": [
        {
          "output_type": "stream",
          "name": "stdout",
          "text": [
            "[1, 2, 3, 4, 5]\n"
          ]
        },
        {
          "output_type": "execute_result",
          "data": {
            "text/plain": [
              "list"
            ]
          },
          "metadata": {},
          "execution_count": 13
        }
      ]
    },
    {
      "cell_type": "code",
      "metadata": {
        "colab": {
          "base_uri": "https://localhost:8080/"
        },
        "id": "lJBs5ECT4mSq",
        "outputId": "d6fde10d-09a7-434e-b516-8431b48918fe"
      },
      "source": [
        "tickers = ['AAPL','GOOG','IBM','FB','F','V', 'G', 'GE'] #Crea una lista tickers\n",
        "list(map(len,tickers)) #map crea una funcion para todos los elementos devolviendo un valor, en este caso cuenta la longitud de cada item y asigna un numero"
      ],
      "execution_count": null,
      "outputs": [
        {
          "output_type": "execute_result",
          "data": {
            "text/plain": [
              "[4, 4, 3, 2, 1, 1, 1, 2]"
            ]
          },
          "metadata": {},
          "execution_count": 47
        }
      ]
    },
    {
      "cell_type": "code",
      "metadata": {
        "colab": {
          "base_uri": "https://localhost:8080/"
        },
        "id": "78DyKVOyO2PR",
        "outputId": "218987fd-310f-46fd-efe4-6a9715939475"
      },
      "source": [
        "tickers = ['AAPL','GOOG','IBM','FB','F','V', 'G', 'GE']\n",
        "print(list(map(len,tickers))) #imprime la lista del mapa"
      ],
      "execution_count": null,
      "outputs": [
        {
          "output_type": "stream",
          "name": "stdout",
          "text": [
            "[4, 4, 3, 2, 1, 1, 1, 2]\n"
          ]
        }
      ]
    },
    {
      "cell_type": "markdown",
      "metadata": {
        "id": "mvr06UM7ca7b"
      },
      "source": [
        "\n",
        "\n",
        "```\n",
        "# Tiene formato de código\n",
        "```\n",
        "\n",
        "The **`lambda opera`tor** is a way to create small anonymous functions. These functions are just needed where they have been created. For example:"
      ]
    },
    {
      "cell_type": "code",
      "metadata": {
        "colab": {
          "base_uri": "https://localhost:8080/"
        },
        "id": "pAEHADYXO2PR",
        "outputId": "945610e9-76a7-4671-f760-4013ac4aa143"
      },
      "source": [
        "list(map(lambda x: x**2, range(10))) # crea una funcion lambda para solo usarla en el momento"
      ],
      "execution_count": null,
      "outputs": [
        {
          "output_type": "execute_result",
          "data": {
            "text/plain": [
              "[0, 1, 4, 9, 16, 25, 36, 49, 64, 81]"
            ]
          },
          "metadata": {},
          "execution_count": 49
        }
      ]
    },
    {
      "cell_type": "markdown",
      "metadata": {
        "id": "Mgixpxomcj3T"
      },
      "source": [
        "map() can be applied to more than one list. The lists have to have the same length."
      ]
    },
    {
      "cell_type": "code",
      "metadata": {
        "colab": {
          "base_uri": "https://localhost:8080/"
        },
        "id": "HtckhAaJO2PS",
        "outputId": "8b24472e-2eef-4a71-c36c-b872f8e128db"
      },
      "source": [
        "list(map(lambda x, y: x+y, [1,2,3,4,5],[5,4,3,2,1]))  #lambda permite varias listas y parametros"
      ],
      "execution_count": null,
      "outputs": [
        {
          "output_type": "execute_result",
          "data": {
            "text/plain": [
              "[6, 6, 6, 6, 6]"
            ]
          },
          "metadata": {},
          "execution_count": 50
        }
      ]
    },
    {
      "cell_type": "markdown",
      "metadata": {
        "id": "ZDnMTH-KcklT"
      },
      "source": [
        "**sorted()** takes a list or set and returns a new sorted list"
      ]
    },
    {
      "cell_type": "code",
      "metadata": {
        "colab": {
          "base_uri": "https://localhost:8080/"
        },
        "id": "P0sHUMFWO2PS",
        "outputId": "ff293907-8b01-47e8-b872-f362d3a63832"
      },
      "source": [
        "sorted([5,2,3,4,1]) # funcion que organiza los elementos"
      ],
      "execution_count": null,
      "outputs": [
        {
          "output_type": "execute_result",
          "data": {
            "text/plain": [
              "[1, 2, 3, 4, 5]"
            ]
          },
          "metadata": {},
          "execution_count": 51
        }
      ]
    },
    {
      "cell_type": "markdown",
      "metadata": {
        "id": "-N5_EDOFcnsc"
      },
      "source": [
        "We can add a \"key\" parameter to specify a function to be called on each list element prior to making comparisons. For example:"
      ]
    },
    {
      "cell_type": "code",
      "metadata": {
        "colab": {
          "base_uri": "https://localhost:8080/"
        },
        "id": "0i3peZ0bO2PS",
        "outputId": "abb2ae1e-0b2d-4623-8d4f-c66d62985249"
      },
      "source": [
        "price_list = [('AAPL',144.09),('GOOG',911.71),('MSFT',69),('FB',150),('WMT',75.32)]\n",
        "sorted(price_list, key = lambda x: x[1]) # organiza la lista por los 2dos elementos de cada elemento"
      ],
      "execution_count": null,
      "outputs": [
        {
          "output_type": "execute_result",
          "data": {
            "text/plain": [
              "[('MSFT', 69), ('WMT', 75.32), ('AAPL', 144.09), ('FB', 150), ('GOOG', 911.71)]"
            ]
          },
          "metadata": {},
          "execution_count": 52
        }
      ]
    },
    {
      "cell_type": "markdown",
      "metadata": {
        "id": "yun2zptKcxe_"
      },
      "source": [
        "By default the values are sorted by ascending order. We can change it to descending by adding an optional parameter \"reverse'."
      ]
    },
    {
      "cell_type": "code",
      "metadata": {
        "colab": {
          "base_uri": "https://localhost:8080/"
        },
        "id": "dEZqdl94O2PT",
        "outputId": "7a707211-8b7e-49ea-cf7e-8d7c87e53778"
      },
      "source": [
        "price_list = [('AAPL',144.09),('GOOG',911.71),('MSFT',69),('FB',150),('WMT',75.32)]\n",
        "sorted(price_list, key = lambda x: x[1],reverse = True) # cambia de ascendente (por defecto) a desendente"
      ],
      "execution_count": null,
      "outputs": [
        {
          "output_type": "execute_result",
          "data": {
            "text/plain": [
              "[('GOOG', 911.71), ('FB', 150), ('AAPL', 144.09), ('WMT', 75.32), ('MSFT', 69)]"
            ]
          },
          "metadata": {},
          "execution_count": 53
        }
      ]
    },
    {
      "cell_type": "markdown",
      "metadata": {
        "id": "OA2wYAa0c6Dn"
      },
      "source": [
        "Lists also have a function list.sort(). This function takes the same \"key\" and \"reverse\" arguments as sorted(), but it doesn't return a new list."
      ]
    },
    {
      "cell_type": "code",
      "metadata": {
        "colab": {
          "base_uri": "https://localhost:8080/"
        },
        "id": "pG9VQCLnO2PT",
        "outputId": "bf1b0694-5364-4e2f-f032-21ed620aab77"
      },
      "source": [
        "price_list = [('AAPL',144.09),('GOOG',911.71),('MSFT',69),('FB',150),('WMT',75.32)]\n",
        "price_list.sort(key = lambda x: x[1]) # se hace uso de la funcion incluida en las listas de .sort, tambien se le indica que utilize el 2do elemento para ordenar\n",
        "print(price_list)"
      ],
      "execution_count": null,
      "outputs": [
        {
          "output_type": "stream",
          "name": "stdout",
          "text": [
            "[('MSFT', 69), ('WMT', 75.32), ('AAPL', 144.09), ('FB', 150), ('GOOG', 911.71)]\n"
          ]
        }
      ]
    },
    {
      "cell_type": "markdown",
      "metadata": {
        "id": "mxljL1W1c_c5"
      },
      "source": [
        "# Object-Oriented Programming\n",
        "Python is an object-oriented programming language. It's important to understand the concept of \"objects\" because almost every kind of data from QuantConnect API is an object.\n",
        "\n",
        "## Class\n",
        "A class is a type of data, just like a string, float, or list. When we create an object of that data type, we call it an instance of a class.\n",
        "\n",
        "In Python, everything is an object - everything is an instance of some class. The data stored inside an object are called attributes, and the functions which are associated with the object are called methods.\n",
        "\n",
        "For example, as mentioned above, a list is an object of the \"list\" class, and it has a method list.sort().\n",
        "\n",
        "We can create our own objects by defining a class. We would do this when it's helpful to group certain functions together. For example, we define a class named \"Stock\" here:"
      ]
    },
    {
      "cell_type": "code",
      "metadata": {
        "id": "zC4Y4PgDO2PT"
      },
      "source": [
        "class stock: # se crea una clase Stock \n",
        "    def __init__(self, ticker, open, close, volume): # se crea la funcion de inicializacion de la clase\n",
        "        self.ticker = ticker\n",
        "        self.open = open\n",
        "        self.close = close\n",
        "        self.volume = volume\n",
        "        self.rate_return = float(close)/open - 1\n",
        " \n",
        "    def update(self, open, close): #se crea funcion de actualizar los datos\n",
        "        self.open = open\n",
        "        self.close = close\n",
        "        self.rate_return = float(self.close)/self.open - 1\n",
        " \n",
        "    def print_return(self): # se crea la funcion de imprimirse \n",
        "        print(self.rate_return)"
      ],
      "execution_count": 22,
      "outputs": []
    },
    {
      "cell_type": "markdown",
      "metadata": {
        "id": "rV06INT5dETi"
      },
      "source": [
        "The \"Stock\" class has attributes \"ticker\", \"open\", \"close\", \"volume\" and \"rate_return\". Inside the class body, the first method is called __init__, which is a special method. When we create a new instance of the class, the __init__ method is immediately executed with all the parameters that we pass to the \"Stock\" object. The purpose of this method is to set up a new \"Stock\" object using data we have provided.\n",
        "\n",
        "Here we create two Stock objects named \"apple\" and \"google\"."
      ]
    },
    {
      "cell_type": "code",
      "metadata": {
        "id": "8tIpNk93O2PU"
      },
      "source": [
        "apple = stock('AAPL', 143.69, 144.09, 20109375) #se crea un elemento Stock\n",
        "google = stock('GOOG', 898.7, 911.7, 1561616) # se crea un elemento stock"
      ],
      "execution_count": 23,
      "outputs": []
    },
    {
      "cell_type": "markdown",
      "metadata": {
        "id": "VxmELNiHdPKS"
      },
      "source": [
        "Stock objects also have two other methods: update() and print_return(). We can access the attribues of a Stock object and call its methods:"
      ]
    },
    {
      "cell_type": "code",
      "metadata": {
        "colab": {
          "base_uri": "https://localhost:8080/"
        },
        "id": "SsiIkmekO2PU",
        "outputId": "3c38ad2d-b4e4-42ab-b433-e93acb4debfc"
      },
      "source": [
        "\n",
        "google.print_return()   # utiliza la funcion de print de la clase stock\n",
        "google.update(912.8,913.4) # utiliza la funcion de update de la clase stock\n",
        "google.print_return() #vuelve a imprimirse a el mismo"
      ],
      "execution_count": 24,
      "outputs": [
        {
          "output_type": "stream",
          "name": "stdout",
          "text": [
            "0.014465338822744034\n",
            "0.0006573181419806673\n"
          ]
        }
      ]
    },
    {
      "cell_type": "markdown",
      "metadata": {
        "id": "Q8fl7keNdVKF"
      },
      "source": [
        "By calling the update() function, we updated the open and close prices of a stock. Please note that when we use the attributes or call the methods **inside a class**, we need to specify them as self.attribute or self.method(), otherwise Python will deem them as global variables and thus raise an error.\n",
        "\n",
        "We can add an attribute to an object anywhere:"
      ]
    },
    {
      "cell_type": "code",
      "metadata": {
        "colab": {
          "base_uri": "https://localhost:8080/"
        },
        "id": "rO4OLnqOO2PU",
        "outputId": "6b65374d-e85a-4abf-c6b3-e9fe9239a56f"
      },
      "source": [
        "apple.ceo = 'Tim Cook' #crea un nuevo atributto de apple\n",
        "apple.ceo #imprime atributo ceo\n",
        "apple.open #imrpime atributo open"
      ],
      "execution_count": 27,
      "outputs": [
        {
          "output_type": "execute_result",
          "data": {
            "text/plain": [
              "143.69"
            ]
          },
          "metadata": {},
          "execution_count": 27
        }
      ]
    },
    {
      "cell_type": "markdown",
      "metadata": {
        "id": "WyfnFgVidh4J"
      },
      "source": [
        "We can check what names (i.e. attributes and methods) are defined on an object using the dir() function:"
      ]
    },
    {
      "cell_type": "code",
      "metadata": {
        "colab": {
          "base_uri": "https://localhost:8080/"
        },
        "id": "pPoz0LA8O2PU",
        "outputId": "4dcea2e2-771b-4d71-c743-5cb63c81f277"
      },
      "source": [
        "dir(apple) #imprime atributos y metodos de la clase"
      ],
      "execution_count": null,
      "outputs": [
        {
          "output_type": "execute_result",
          "data": {
            "text/plain": [
              "['__class__',\n",
              " '__delattr__',\n",
              " '__dict__',\n",
              " '__dir__',\n",
              " '__doc__',\n",
              " '__eq__',\n",
              " '__format__',\n",
              " '__ge__',\n",
              " '__getattribute__',\n",
              " '__gt__',\n",
              " '__hash__',\n",
              " '__init__',\n",
              " '__init_subclass__',\n",
              " '__le__',\n",
              " '__lt__',\n",
              " '__module__',\n",
              " '__ne__',\n",
              " '__new__',\n",
              " '__reduce__',\n",
              " '__reduce_ex__',\n",
              " '__repr__',\n",
              " '__setattr__',\n",
              " '__sizeof__',\n",
              " '__str__',\n",
              " '__subclasshook__',\n",
              " '__weakref__',\n",
              " 'ceo',\n",
              " 'close',\n",
              " 'open',\n",
              " 'print_return',\n",
              " 'rate_return',\n",
              " 'ticker',\n",
              " 'update',\n",
              " 'volume']"
            ]
          },
          "metadata": {},
          "execution_count": 59
        }
      ]
    },
    {
      "cell_type": "markdown",
      "metadata": {
        "id": "Qpemj1UZd2aa"
      },
      "source": [
        "## Inheritance\n",
        "Inheritance is a way of arranging classes in a hierarchy from the most general to the most specific. A \"child\" class is a more specific type of a \"parent\" class because a child class will inherit all the attribues and methods of its parent. For example, we define a class named \"Child\" which inherits \"Stock\":"
      ]
    },
    {
      "cell_type": "code",
      "metadata": {
        "id": "UELXnxomO2PV"
      },
      "source": [
        "class child(stock): #Crea una clase hijo de la clase stock\n",
        "    def __init__(self,name):\n",
        "        self.name = name"
      ],
      "execution_count": null,
      "outputs": []
    },
    {
      "cell_type": "code",
      "metadata": {
        "colab": {
          "base_uri": "https://localhost:8080/"
        },
        "id": "ffS2THZyO2PV",
        "outputId": "0b5d99cf-477c-48a1-8f5c-4e523612a028"
      },
      "source": [
        "aa = child('aa') #crea un elemento hijo aa y luego se confirma que tiene los atributos de stock\n",
        "print(aa.name)\n",
        "aa.update(100,102)\n",
        "print(aa.open)\n",
        "print(aa.close)\n",
        "print(aa.print_return())"
      ],
      "execution_count": null,
      "outputs": [
        {
          "output_type": "stream",
          "name": "stdout",
          "text": [
            "aa\n",
            "100\n",
            "102\n",
            "0.020000000000000018\n",
            "None\n"
          ]
        }
      ]
    },
    {
      "cell_type": "markdown",
      "metadata": {
        "id": "pdIEjUv2eJqL"
      },
      "source": [
        "As seen above, the new class Child has inherited the methods from Stock.\n",
        "\n",
        "#Summary\n",
        "\n",
        "In this chapter we have introduced functions and classes. When we write a QuantConnect algorithm, we would define our algorithm as a class (QCAlgorithm). This means our algorithm inherited the QC API methods from QCAlgorithm class.\n",
        "\n",
        "In the next chapter, we will introduce NumPy and Pandas, which enable us to conduct scientific calculations in Python."
      ]
    },
    {
      "cell_type": "markdown",
      "metadata": {
        "id": "dQbENH6mexTd"
      },
      "source": [
        "<div align=\"center\">\n",
        "<img style=\"display: block; margin: auto;\" alt=\"photo\" src=\"https://cdn.quantconnect.com/web/i/icon.png\">\n",
        "\n",
        "Quantconnect\n",
        "\n",
        "Introduction to Financial Python\n",
        "</div>\n",
        "\n",
        "# 04 NumPy and Basic Pandas\n",
        "\n",
        "# Introduction\n",
        "\n",
        "Now that we have introduced the fundamentals of Python, it's time to learn about NumPy and Pandas.\n",
        "\n",
        "# NumPy\n",
        "NumPy is the core library for scientific computing in Python. It provides a high-performance multidimensional array object, and tools for working with these arrays. It also has strong integration with Pandas, which is another powerful tool for manipulating financial data.\n",
        "\n",
        "Python packages like NumPy and Pandas contain classes and methods which we can use by importing the package:"
      ]
    },
    {
      "cell_type": "code",
      "metadata": {
        "id": "aIESp-rdO58h"
      },
      "source": [
        "import numpy as np # se importa la libreria NumPy"
      ],
      "execution_count": null,
      "outputs": []
    },
    {
      "cell_type": "markdown",
      "metadata": {
        "id": "GScHHJ5ke7ea"
      },
      "source": [
        "## Basic NumPy Arrays\n",
        "A NumPy array is a grid of values, all of the same type, and is indexed by a tuple of nonnegative integers. Here we make an array by passing a list of Apple stock prices:"
      ]
    },
    {
      "cell_type": "code",
      "metadata": {
        "colab": {
          "base_uri": "https://localhost:8080/"
        },
        "id": "lZI1wkwDO58i",
        "outputId": "7792634b-b0f5-47d4-f998-be207f9fb485"
      },
      "source": [
        "price_list = [143.73, 145.83, 143.68, 144.02, 143.5, 142.62]\n",
        "price_array = np.array(price_list)\n",
        "print(price_array, type(price_array)) #se crea un tipo de arreglo de numpy"
      ],
      "execution_count": null,
      "outputs": [
        {
          "output_type": "stream",
          "name": "stdout",
          "text": [
            "[143.73 145.83 143.68 144.02 143.5  142.62] <class 'numpy.ndarray'>\n"
          ]
        }
      ]
    },
    {
      "cell_type": "markdown",
      "metadata": {
        "id": "-5Yj6u9ifB-t"
      },
      "source": [
        "Notice that the type of array is \"ndarray\" which is a multi-dimensional array. If we pass np.array() a list of lists, it will create a 2-dimensional array."
      ]
    },
    {
      "cell_type": "code",
      "metadata": {
        "colab": {
          "base_uri": "https://localhost:8080/"
        },
        "id": "obvIZrK-O58j",
        "outputId": "7bf6293a-350d-4167-a431-2fabb6353a74"
      },
      "source": [
        "Ar = np.array([[1,3],[2,4]]) #se crea un arreglo de 2 dimenciones\n",
        "print(Ar, type(Ar)) # se imprime"
      ],
      "execution_count": null,
      "outputs": [
        {
          "output_type": "stream",
          "name": "stdout",
          "text": [
            "[[1 3]\n",
            " [2 4]] <class 'numpy.ndarray'>\n"
          ]
        }
      ]
    },
    {
      "cell_type": "markdown",
      "metadata": {
        "id": "uDdfLD9HfHkl"
      },
      "source": [
        "We get the dimensions of an ndarray using the .shape attribute:"
      ]
    },
    {
      "cell_type": "code",
      "metadata": {
        "colab": {
          "base_uri": "https://localhost:8080/"
        },
        "id": "G2txdn73O58j",
        "outputId": "b6539a1f-7794-47bc-fd6f-744683e69ab7"
      },
      "source": [
        "print(Ar.shape) #se obtiene las dimensiones del arreglo"
      ],
      "execution_count": null,
      "outputs": [
        {
          "output_type": "stream",
          "name": "stdout",
          "text": [
            "(2, 2)\n"
          ]
        }
      ]
    },
    {
      "cell_type": "markdown",
      "metadata": {
        "id": "87W5ueORfPEy"
      },
      "source": [
        "If we create an 2-dimensional array (i.e. matrix), each row can be accessed by index:"
      ]
    },
    {
      "cell_type": "code",
      "metadata": {
        "colab": {
          "base_uri": "https://localhost:8080/"
        },
        "id": "x_QV9aPbO58j",
        "outputId": "ceaeabd6-af8c-435b-f376-0f73fa6af72e"
      },
      "source": [
        "print(Ar[0]) #cada posicion de la matriz imprime el arreglo correspondiente\n",
        "print(Ar[1])"
      ],
      "execution_count": null,
      "outputs": [
        {
          "output_type": "stream",
          "name": "stdout",
          "text": [
            "[1 3]\n",
            "[2 4]\n"
          ]
        }
      ]
    },
    {
      "cell_type": "markdown",
      "metadata": {
        "id": "5Hke7Vt-fSGB"
      },
      "source": [
        "If we want to access the matrix by column instead:"
      ]
    },
    {
      "cell_type": "code",
      "metadata": {
        "colab": {
          "base_uri": "https://localhost:8080/"
        },
        "id": "gHVwbPfOO58j",
        "outputId": "fbc8f0ca-38bf-4f98-d85f-1e95b30bb6f3"
      },
      "source": [
        "print('the first column: ', Ar[:,0]) #y se puede acceder verticalmenteusando [:,x] siendo x la columna\n",
        "print('the second column: ', Ar[:,1])"
      ],
      "execution_count": null,
      "outputs": [
        {
          "output_type": "stream",
          "name": "stdout",
          "text": [
            "the first column:  [1 2]\n",
            "the second column:  [3 4]\n"
          ]
        }
      ]
    },
    {
      "cell_type": "markdown",
      "metadata": {
        "id": "T61cD0HMfStB"
      },
      "source": [
        "## Array Functions\n",
        "Some functions built in NumPy that allow us to perform calculations on arrays. For example, we can apply the natural logarithm to each element of an array:"
      ]
    },
    {
      "cell_type": "code",
      "metadata": {
        "colab": {
          "base_uri": "https://localhost:8080/"
        },
        "id": "PKhwtJ7XO58k",
        "outputId": "5734372b-2ffa-44e4-8146-5906268cd6c8"
      },
      "source": [
        "print(np.log(price_array)) # np.log calcula el logaritmo natural de cada elemento"
      ],
      "execution_count": null,
      "outputs": [
        {
          "output_type": "stream",
          "name": "stdout",
          "text": [
            "[4.96793654 4.98244156 4.9675886  4.96995218 4.96633504 4.96018375]\n"
          ]
        }
      ]
    },
    {
      "cell_type": "markdown",
      "metadata": {
        "id": "uzjBRFBLfZ-D"
      },
      "source": [
        "Other functions return a single value:"
      ]
    },
    {
      "cell_type": "code",
      "metadata": {
        "colab": {
          "base_uri": "https://localhost:8080/"
        },
        "id": "nQuABZqUO58k",
        "outputId": "42151fdc-de6a-4a12-aebc-6689f288d9fa"
      },
      "source": [
        "print(np.mean(price_array)) #promedio\n",
        "print(np.std(price_array)) # desviasion estandar\n",
        "print(np.sum(price_array)) #suma\n",
        "print(np.max(price_array)) #maximo"
      ],
      "execution_count": null,
      "outputs": [
        {
          "output_type": "stream",
          "name": "stdout",
          "text": [
            "143.89666666666668\n",
            "0.9673790478515796\n",
            "863.38\n",
            "145.83\n"
          ]
        }
      ]
    },
    {
      "cell_type": "markdown",
      "metadata": {
        "id": "IRW95BsifgDB"
      },
      "source": [
        "The functions above return the mean, standard deviation, total and maximum value of an array.\n",
        "\n",
        "# Pandas\n",
        "Pandas is one of the most powerful tools for dealing with financial data. \n",
        "\n",
        "First we need to import Pandas:"
      ]
    },
    {
      "cell_type": "code",
      "metadata": {
        "id": "xIYH4oUfO58k"
      },
      "source": [
        "import pandas as pd #importa la libreria pandas"
      ],
      "execution_count": null,
      "outputs": []
    },
    {
      "cell_type": "markdown",
      "metadata": {
        "id": "zOig5gORfnJU"
      },
      "source": [
        "## Series\n",
        "Series is a one-dimensional labeled array capable of holding any data type (integers, strings, float, Python object, etc.)\n",
        "\n",
        "We create a Series by calling pd.Series(data), where data can be a dictionary, an array or just a scalar value."
      ]
    },
    {
      "cell_type": "code",
      "metadata": {
        "colab": {
          "base_uri": "https://localhost:8080/"
        },
        "id": "JmzoNzrPO58k",
        "outputId": "b366da70-894e-4be5-fb47-9c8c6c09baae"
      },
      "source": [
        "price = [143.73, 145.83, 143.68, 144.02, 143.5, 142.62]\n",
        "s = pd.Series(price) #genera una serie desde la lista price\n",
        "s"
      ],
      "execution_count": null,
      "outputs": [
        {
          "output_type": "execute_result",
          "data": {
            "text/plain": [
              "0    143.73\n",
              "1    145.83\n",
              "2    143.68\n",
              "3    144.02\n",
              "4    143.50\n",
              "5    142.62\n",
              "dtype: float64"
            ]
          },
          "metadata": {},
          "execution_count": 71
        }
      ]
    },
    {
      "cell_type": "markdown",
      "metadata": {
        "id": "tP5iDnunfq46"
      },
      "source": [
        "We can customize the indices of a new Series:"
      ]
    },
    {
      "cell_type": "code",
      "metadata": {
        "colab": {
          "base_uri": "https://localhost:8080/"
        },
        "id": "eswQC3ZPO58l",
        "outputId": "6c6e3ff1-bc50-4ec9-8345-24f2af8feb18"
      },
      "source": [
        "s = pd.Series(price,index = ['a','b','c','d','e','f']) # se personaliza la serie nombrando cada item por letras\n",
        "s"
      ],
      "execution_count": null,
      "outputs": [
        {
          "output_type": "execute_result",
          "data": {
            "text/plain": [
              "a    143.73\n",
              "b    145.83\n",
              "c    143.68\n",
              "d    144.02\n",
              "e    143.50\n",
              "f    142.62\n",
              "dtype: float64"
            ]
          },
          "metadata": {},
          "execution_count": 72
        }
      ]
    },
    {
      "cell_type": "markdown",
      "metadata": {
        "id": "wdZrb8pEfuua"
      },
      "source": [
        "Or we can change the indices of an existing Series:"
      ]
    },
    {
      "cell_type": "code",
      "metadata": {
        "colab": {
          "base_uri": "https://localhost:8080/"
        },
        "id": "MwlRnPF6O58l",
        "outputId": "6f1d38f9-b562-40a7-8c69-cf7605ddf732"
      },
      "source": [
        "s.index = [6,5,4,3,2,1] #se cambia los indices de la serie existente\n",
        "s"
      ],
      "execution_count": null,
      "outputs": [
        {
          "output_type": "execute_result",
          "data": {
            "text/plain": [
              "6    143.73\n",
              "5    145.83\n",
              "4    143.68\n",
              "3    144.02\n",
              "2    143.50\n",
              "1    142.62\n",
              "dtype: float64"
            ]
          },
          "metadata": {},
          "execution_count": 73
        }
      ]
    },
    {
      "cell_type": "markdown",
      "metadata": {
        "id": "6cGNQZwLfxIz"
      },
      "source": [
        "Series is like a list since it can be sliced by index:"
      ]
    },
    {
      "cell_type": "code",
      "metadata": {
        "colab": {
          "base_uri": "https://localhost:8080/"
        },
        "id": "N9bBSg6cO58l",
        "outputId": "4fed1936-9b14-44ca-a4e8-6873d9b706d8"
      },
      "source": [
        "print(s[1:]) #imprime la serie de arirba desde el elemento en posicion 1 en adelante\n",
        "print(s[:-2]) #imprime la serie sin los 2 ultimos elementos"
      ],
      "execution_count": null,
      "outputs": [
        {
          "output_type": "stream",
          "name": "stdout",
          "text": [
            "5    145.83\n",
            "4    143.68\n",
            "3    144.02\n",
            "2    143.50\n",
            "1    142.62\n",
            "dtype: float64\n",
            "6    143.73\n",
            "5    145.83\n",
            "4    143.68\n",
            "3    144.02\n",
            "dtype: float64\n"
          ]
        }
      ]
    },
    {
      "cell_type": "markdown",
      "metadata": {
        "id": "5V25nViZfz3Z"
      },
      "source": [
        "Series is also like a dictionary whose values can be set or fetched by index label:"
      ]
    },
    {
      "cell_type": "code",
      "metadata": {
        "colab": {
          "base_uri": "https://localhost:8080/"
        },
        "id": "b3Y0kKGYO58l",
        "outputId": "beb4aa36-3e49-4d1a-cf11-5309214e9e60"
      },
      "source": [
        "print(s[4]) #llama al elemento con key \"4\"\n",
        "s[4] = 0 #reemplaza el valor del dato con key\n",
        "print(s) #imprime la serie"
      ],
      "execution_count": null,
      "outputs": [
        {
          "output_type": "stream",
          "name": "stdout",
          "text": [
            "143.68\n",
            "6    143.73\n",
            "5    145.83\n",
            "4      0.00\n",
            "3    144.02\n",
            "2    143.50\n",
            "1    142.62\n",
            "dtype: float64\n"
          ]
        }
      ]
    },
    {
      "cell_type": "markdown",
      "metadata": {
        "id": "RQ1P7Gkyf060"
      },
      "source": [
        "Series can also have a name attribute, which will be used when we make up a Pandas DataFrame using several series."
      ]
    },
    {
      "cell_type": "code",
      "metadata": {
        "colab": {
          "base_uri": "https://localhost:8080/"
        },
        "id": "ZeD4-p7KO58m",
        "outputId": "add952eb-4ac8-49d4-c63b-59fe3da953a5"
      },
      "source": [
        "s = pd.Series(price, name = 'Apple Price List') #hace una serie con la lista price y añade el elemento name\n",
        "print(s) # imprime toda la serie\n",
        "print(s.name) #imprime solo el elemento name de la serie"
      ],
      "execution_count": null,
      "outputs": [
        {
          "output_type": "stream",
          "name": "stdout",
          "text": [
            "0    143.73\n",
            "1    145.83\n",
            "2    143.68\n",
            "3    144.02\n",
            "4    143.50\n",
            "5    142.62\n",
            "Name: Apple Price List, dtype: float64\n",
            "Apple Price List\n"
          ]
        }
      ]
    },
    {
      "cell_type": "markdown",
      "metadata": {
        "id": "geJb1pGHf5Et"
      },
      "source": [
        "We can get the statistical summaries of a Series:"
      ]
    },
    {
      "cell_type": "code",
      "metadata": {
        "colab": {
          "base_uri": "https://localhost:8080/"
        },
        "id": "mGPtFcjegm4i",
        "outputId": "c755fd81-f5cc-4e33-ac06-0286c3710356"
      },
      "source": [
        "print(s.describe()) #hace un resumen estadistico de la serie s"
      ],
      "execution_count": null,
      "outputs": [
        {
          "output_type": "stream",
          "name": "stdout",
          "text": [
            "count      6.000000\n",
            "mean     143.896667\n",
            "std        1.059711\n",
            "min      142.620000\n",
            "25%      143.545000\n",
            "50%      143.705000\n",
            "75%      143.947500\n",
            "max      145.830000\n",
            "Name: Apple Price List, dtype: float64\n"
          ]
        }
      ]
    },
    {
      "cell_type": "markdown",
      "metadata": {
        "id": "LkdZu-CDgvlR"
      },
      "source": [
        "## Time Index\n",
        "Pandas has a built-in function specifically for creating date indices: pd.date_range(). We use it to create a new index for our Series:"
      ]
    },
    {
      "cell_type": "code",
      "metadata": {
        "colab": {
          "base_uri": "https://localhost:8080/"
        },
        "id": "HJe5hU4zO58m",
        "outputId": "9d621c1b-9219-4df0-e281-c205122a501e"
      },
      "source": [
        "time_index = pd.date_range('2017-01-01',periods = len(s),freq = 'D') #hace un indice de fechas para cada item\n",
        "print(time_index) #imprimela secuencia de fechas generada\n",
        "s.index = time_index\n",
        "print(s) #imprime la serie con el index cambiado"
      ],
      "execution_count": null,
      "outputs": [
        {
          "output_type": "stream",
          "name": "stdout",
          "text": [
            "DatetimeIndex(['2017-01-01', '2017-01-02', '2017-01-03', '2017-01-04',\n",
            "               '2017-01-05', '2017-01-06'],\n",
            "              dtype='datetime64[ns]', freq='D')\n",
            "2017-01-01    143.73\n",
            "2017-01-02    145.83\n",
            "2017-01-03    143.68\n",
            "2017-01-04    144.02\n",
            "2017-01-05    143.50\n",
            "2017-01-06    142.62\n",
            "Freq: D, Name: Apple Price List, dtype: float64\n"
          ]
        }
      ]
    },
    {
      "cell_type": "markdown",
      "metadata": {
        "id": "7WedejFZg19J"
      },
      "source": [
        "Series are usually accessed using the iloc[] and loc[] methods. iloc[] is used to access elements by integer index, and loc[] is used to access the index of the series.\n",
        "\n",
        "iloc[] is necessary when the index of a series are integers, take our previous defined series as example:"
      ]
    },
    {
      "cell_type": "code",
      "metadata": {
        "colab": {
          "base_uri": "https://localhost:8080/"
        },
        "id": "KrVSOyMvO58m",
        "outputId": "53834718-43c5-4490-e361-2888f8651f96"
      },
      "source": [
        "s.index = [6,5,4,3,2,1] # se añade indices numericos\n",
        "print(s)\n",
        "print(s[1]) # se imprime el elemento 1 de la serie"
      ],
      "execution_count": null,
      "outputs": [
        {
          "output_type": "stream",
          "name": "stdout",
          "text": [
            "6    143.73\n",
            "5    145.83\n",
            "4    143.68\n",
            "3    144.02\n",
            "2    143.50\n",
            "1    142.62\n",
            "Name: Apple Price List, dtype: float64\n",
            "142.62\n"
          ]
        }
      ]
    },
    {
      "cell_type": "markdown",
      "metadata": {
        "id": "r30VKPtpg61p"
      },
      "source": [
        "If we intended to take the second element of the series, we would make a mistake here, because the index are integers. In order to access to the element we want, we use iloc[] here:"
      ]
    },
    {
      "cell_type": "code",
      "metadata": {
        "colab": {
          "base_uri": "https://localhost:8080/"
        },
        "id": "bHukfaAmO58m",
        "outputId": "a75ed573-3d6e-45db-ece3-16aff3ced012"
      },
      "source": [
        "print(s.iloc[1]) #para acceder al elemento de la posicion 1 se utiliza iloc"
      ],
      "execution_count": null,
      "outputs": [
        {
          "output_type": "stream",
          "name": "stdout",
          "text": [
            "145.83\n"
          ]
        }
      ]
    },
    {
      "cell_type": "markdown",
      "metadata": {
        "id": "kHVBRL_Rg84j"
      },
      "source": [
        "While working with time series data, we often use time as the index. Pandas provides us with various methods to access the data by time index"
      ]
    },
    {
      "cell_type": "code",
      "metadata": {
        "colab": {
          "base_uri": "https://localhost:8080/"
        },
        "id": "FCf8Hg7jO58n",
        "outputId": "b095c269-31ed-40e4-e4a8-d6d0b0b1a46d"
      },
      "source": [
        "s.index = time_index #asigna los indices de fecha a la serie s\n",
        "print(s['2017-01-03']) # imprime el elemento con el indice de esa fecha"
      ],
      "execution_count": null,
      "outputs": [
        {
          "output_type": "stream",
          "name": "stdout",
          "text": [
            "143.68\n"
          ]
        }
      ]
    },
    {
      "cell_type": "markdown",
      "metadata": {
        "id": "XJXcrSFpg-To"
      },
      "source": [
        "We can even access to a range of dates:"
      ]
    },
    {
      "cell_type": "code",
      "metadata": {
        "colab": {
          "base_uri": "https://localhost:8080/"
        },
        "id": "NsE-Lr_9O58n",
        "outputId": "ecfd6e32-3661-4448-d4d7-9bf37fbe74c9"
      },
      "source": [
        "print(s['2017-01-02':'2017-01-05']) #imprime los elementos en el rango de fechas"
      ],
      "execution_count": null,
      "outputs": [
        {
          "output_type": "stream",
          "name": "stdout",
          "text": [
            "2017-01-02    145.83\n",
            "2017-01-03    143.68\n",
            "2017-01-04    144.02\n",
            "2017-01-05    143.50\n",
            "Freq: D, Name: Apple Price List, dtype: float64\n"
          ]
        }
      ]
    },
    {
      "cell_type": "markdown",
      "metadata": {
        "id": "cWA3NCXEhCLB"
      },
      "source": [
        "Series[] provides us a very flexible way to index data. We can add any condition in the square brackets:"
      ]
    },
    {
      "cell_type": "code",
      "metadata": {
        "colab": {
          "base_uri": "https://localhost:8080/"
        },
        "id": "aawbrg2EO58n",
        "outputId": "2df57a9d-6d50-4e9a-fbf9-b281692ec3d2"
      },
      "source": [
        "print(s[s < np.mean(s)] ) # se imprime los valores de s donde sean menores al promedio\n",
        "print([(s > np.mean(s)) & (s < np.mean(s) + 1.64*np.std(s))]) # se imprimen donde sean menores al promedio y sean menores a promeido + 1.64 por la desviasion estandar"
      ],
      "execution_count": null,
      "outputs": [
        {
          "output_type": "stream",
          "name": "stdout",
          "text": [
            "2017-01-01    143.73\n",
            "2017-01-03    143.68\n",
            "2017-01-05    143.50\n",
            "2017-01-06    142.62\n",
            "Name: Apple Price List, dtype: float64\n",
            "[2017-01-01    False\n",
            "2017-01-02    False\n",
            "2017-01-03    False\n",
            "2017-01-04     True\n",
            "2017-01-05    False\n",
            "2017-01-06    False\n",
            "Freq: D, Name: Apple Price List, dtype: bool]\n"
          ]
        }
      ]
    },
    {
      "cell_type": "markdown",
      "metadata": {
        "id": "jAByChIwhEuI"
      },
      "source": [
        "As demonstrated, we can use logical operators like & (and), | (or) and ~ (not) to group multiple conditions.\n",
        "\n",
        "# Summary\n",
        "Here we have introduced NumPy and Pandas for scientific computing in Python. In the next chapter, we will dive into Pandas to learn resampling and manipulating Pandas DataFrame, which are commonly used in financial data analysis."
      ]
    },
    {
      "cell_type": "markdown",
      "metadata": {
        "id": "OtjOpw6oJp6z"
      },
      "source": [
        "<div align=\"center\">\n",
        "<img style=\"display: block; margin: auto;\" alt=\"photo\" src=\"https://cdn.quantconnect.com/web/i/icon.png\"> <img style=\"display: block; margin: auto;\" alt=\"photo\" src=\"https://www.marketing-branding.com/wp-content/uploads/2020/07/google-colaboratory-colab-guia-completa.jpg \" width=\"50\" height=\"50\">\n",
        "<img style=\"display: block; margin: auto;\" alt=\"photo\" src=\"https://upload.wikimedia.org/wikipedia/commons/d/da/Yahoo_Finance_Logo_2019.svg\" width=\"50\" height=\"50\">  \n",
        "\n",
        "Quantconnect -> Google Colab with Yahoo Finance data\n",
        "\n",
        "Introduction to Financial Python\n",
        "</div>\n",
        "\n",
        "# 05 Pandas-Resampling and DataFrame\n",
        "\n",
        "# Introduction\n",
        "In the last chapter we had a glimpse of Pandas. In this chapter we will learn about resampling methods and the DataFrame object, which is a powerful tool for financial data analysis.\n",
        "\n",
        "# Fetching Data\n",
        "Here we use the Yahoo Finance to retrieve data.\n"
      ]
    },
    {
      "cell_type": "code",
      "metadata": {
        "colab": {
          "base_uri": "https://localhost:8080/",
          "height": 503
        },
        "id": "luU8mZTsHW9x",
        "outputId": "cbbbfe21-9d64-4fbe-e5c3-c212e3bc2950"
      },
      "source": [
        "!pip install yfinance #instala el paquete/modulo de yfinance en python"
      ],
      "execution_count": 33,
      "outputs": [
        {
          "output_type": "stream",
          "name": "stdout",
          "text": [
            "Looking in indexes: https://pypi.org/simple, https://us-python.pkg.dev/colab-wheels/public/simple/\n",
            "Collecting yfinance\n",
            "  Downloading yfinance-0.1.74-py2.py3-none-any.whl (27 kB)\n",
            "Collecting requests>=2.26\n",
            "  Downloading requests-2.28.1-py3-none-any.whl (62 kB)\n",
            "\u001b[K     |████████████████████████████████| 62 kB 1.2 MB/s \n",
            "\u001b[?25hRequirement already satisfied: lxml>=4.5.1 in /usr/local/lib/python3.7/dist-packages (from yfinance) (4.9.1)\n",
            "Requirement already satisfied: numpy>=1.15 in /usr/local/lib/python3.7/dist-packages (from yfinance) (1.21.6)\n",
            "Requirement already satisfied: pandas>=0.24.0 in /usr/local/lib/python3.7/dist-packages (from yfinance) (1.3.5)\n",
            "Requirement already satisfied: multitasking>=0.0.7 in /usr/local/lib/python3.7/dist-packages (from yfinance) (0.0.11)\n",
            "Requirement already satisfied: python-dateutil>=2.7.3 in /usr/local/lib/python3.7/dist-packages (from pandas>=0.24.0->yfinance) (2.8.2)\n",
            "Requirement already satisfied: pytz>=2017.3 in /usr/local/lib/python3.7/dist-packages (from pandas>=0.24.0->yfinance) (2022.2.1)\n",
            "Requirement already satisfied: six>=1.5 in /usr/local/lib/python3.7/dist-packages (from python-dateutil>=2.7.3->pandas>=0.24.0->yfinance) (1.15.0)\n",
            "Requirement already satisfied: certifi>=2017.4.17 in /usr/local/lib/python3.7/dist-packages (from requests>=2.26->yfinance) (2022.6.15)\n",
            "Requirement already satisfied: idna<4,>=2.5 in /usr/local/lib/python3.7/dist-packages (from requests>=2.26->yfinance) (2.10)\n",
            "Requirement already satisfied: urllib3<1.27,>=1.21.1 in /usr/local/lib/python3.7/dist-packages (from requests>=2.26->yfinance) (1.24.3)\n",
            "Requirement already satisfied: charset-normalizer<3,>=2 in /usr/local/lib/python3.7/dist-packages (from requests>=2.26->yfinance) (2.1.0)\n",
            "Installing collected packages: requests, yfinance\n",
            "  Attempting uninstall: requests\n",
            "    Found existing installation: requests 2.23.0\n",
            "    Uninstalling requests-2.23.0:\n",
            "      Successfully uninstalled requests-2.23.0\n",
            "Successfully installed requests-2.28.1 yfinance-0.1.74\n"
          ]
        },
        {
          "output_type": "display_data",
          "data": {
            "application/vnd.colab-display-data+json": {
              "pip_warning": {
                "packages": [
                  "requests"
                ]
              }
            }
          },
          "metadata": {}
        }
      ]
    },
    {
      "cell_type": "code",
      "metadata": {
        "colab": {
          "base_uri": "https://localhost:8080/",
          "height": 492
        },
        "id": "mWZ-nirTZHrE",
        "outputId": "b8304a57-3a9f-42f4-d8bc-866f35b2590a"
      },
      "source": [
        "import yfinance as yf #importa yfinance al documento\n",
        "\n",
        "aapl = yf.Ticker(\"AAPL\") #crea un elemento de clase Ticker de la libreria yfinance\n",
        "\n",
        "# get stock info\n",
        "print(aapl.info) #imprime el valor de .info de aapl\n",
        "\n",
        "# get historical market data\n",
        "aapl_table = aapl.history(start=\"2016-01-01\",  end=\"2017-12-31\") # hace un llamado a la funcion history de la clase ticker con los parametros start y end\n",
        "aapl_table"
      ],
      "execution_count": 34,
      "outputs": [
        {
          "output_type": "stream",
          "name": "stdout",
          "text": [
            "{'zip': '95014', 'sector': 'Technology', 'fullTimeEmployees': 154000, 'longBusinessSummary': 'Apple Inc. designs, manufactures, and markets smartphones, personal computers, tablets, wearables, and accessories worldwide. It also sells various related services. In addition, the company offers iPhone, a line of smartphones; Mac, a line of personal computers; iPad, a line of multi-purpose tablets; AirPods Max, an over-ear wireless headphone; and wearables, home, and accessories comprising AirPods, Apple TV, Apple Watch, Beats products, HomePod, and iPod touch. Further, it provides AppleCare support services; cloud services store services; and operates various platforms, including the App Store that allow customers to discover and download applications and digital content, such as books, music, video, games, and podcasts. Additionally, the company offers various services, such as Apple Arcade, a game subscription service; Apple Music, which offers users a curated listening experience with on-demand radio stations; Apple News+, a subscription news and magazine service; Apple TV+, which offers exclusive original content; Apple Card, a co-branded credit card; and Apple Pay, a cashless payment service, as well as licenses its intellectual property. The company serves consumers, and small and mid-sized businesses; and the education, enterprise, and government markets. It distributes third-party applications for its products through the App Store. The company also sells its products through its retail and online stores, and direct sales force; and third-party cellular network carriers, wholesalers, retailers, and resellers. Apple Inc. was incorporated in 1977 and is headquartered in Cupertino, California.', 'city': 'Cupertino', 'phone': '408 996 1010', 'state': 'CA', 'country': 'United States', 'companyOfficers': [], 'website': 'https://www.apple.com', 'maxAge': 1, 'address1': 'One Apple Park Way', 'industry': 'Consumer Electronics', 'ebitdaMargins': 0.3343, 'profitMargins': 0.25709, 'grossMargins': 0.43313998, 'operatingCashflow': 118224003072, 'revenueGrowth': 0.019, 'operatingMargins': 0.30533, 'ebitda': 129556996096, 'targetLowPrice': 136, 'recommendationKey': 'buy', 'grossProfits': 152836000000, 'freeCashflow': 83344621568, 'targetMedianPrice': 185, 'currentPrice': 167.57, 'earningsGrowth': -0.077, 'currentRatio': 0.865, 'returnOnAssets': 0.22204, 'numberOfAnalystOpinions': 44, 'targetMeanPrice': 183.94, 'debtToEquity': 205.984, 'returnOnEquity': 1.62816, 'targetHighPrice': 220, 'totalCash': 48230998016, 'totalDebt': 119691001856, 'totalRevenue': 387541991424, 'totalCashPerShare': 3.001, 'financialCurrency': 'USD', 'revenuePerShare': 23.732, 'quickRatio': 0.697, 'recommendationMean': 1.9, 'exchange': 'NMS', 'shortName': 'Apple Inc.', 'longName': 'Apple Inc.', 'exchangeTimezoneName': 'America/New_York', 'exchangeTimezoneShortName': 'EDT', 'isEsgPopulated': False, 'gmtOffSetMilliseconds': '-14400000', 'quoteType': 'EQUITY', 'symbol': 'AAPL', 'messageBoardId': 'finmb_24937', 'market': 'us_market', 'annualHoldingsTurnover': None, 'enterpriseToRevenue': 7.297, 'beta3Year': None, 'enterpriseToEbitda': 21.828, '52WeekChange': 0.11997056, 'morningStarRiskRating': None, 'forwardEps': 6.44, 'revenueQuarterlyGrowth': None, 'sharesOutstanding': 16070800384, 'fundInceptionDate': None, 'annualReportExpenseRatio': None, 'totalAssets': None, 'bookValue': 3.61, 'sharesShort': 107535584, 'sharesPercentSharesOut': 0.0067000003, 'fundFamily': None, 'lastFiscalYearEnd': 1632528000, 'heldPercentInstitutions': 0.59714, 'netIncomeToCommon': 99632996352, 'trailingEps': 6.05, 'lastDividendValue': 0.23, 'SandP52WeekChange': -0.0776242, 'priceToBook': 46.418285, 'heldPercentInsiders': 0.0007, 'nextFiscalYearEnd': 1695600000, 'yield': None, 'mostRecentQuarter': 1656115200, 'shortRatio': 1.47, 'sharesShortPreviousMonthDate': 1656547200, 'floatShares': 16053234880, 'beta': 1.230174, 'enterpriseValue': 2827915362304, 'priceHint': 2, 'threeYearAverageReturn': None, 'lastSplitDate': 1598832000, 'lastSplitFactor': '4:1', 'legalType': None, 'lastDividendDate': 1659657600, 'morningStarOverallRating': None, 'earningsQuarterlyGrowth': -0.106, 'priceToSalesTrailing12Months': 6.9488835, 'dateShortInterest': 1659052800, 'pegRatio': 2.97, 'ytdReturn': None, 'forwardPE': 26.020187, 'lastCapGain': None, 'shortPercentOfFloat': 0.0067000003, 'sharesShortPriorMonth': 112994371, 'impliedSharesOutstanding': 0, 'category': None, 'fiveYearAverageReturn': None, 'previousClose': 171.52, 'regularMarketOpen': 169.69, 'twoHundredDayAverage': 160.5414, 'trailingAnnualDividendYield': 0.005188899, 'payoutRatio': 0.1471, 'volume24Hr': None, 'regularMarketDayHigh': 169.86, 'navPrice': None, 'averageDailyVolume10Day': 64986660, 'regularMarketPreviousClose': 171.52, 'fiftyDayAverage': 151.8174, 'trailingAnnualDividendRate': 0.89, 'open': 169.69, 'toCurrency': None, 'averageVolume10days': 64986660, 'expireDate': None, 'algorithm': None, 'dividendRate': 0.92, 'exDividendDate': 1659657600, 'circulatingSupply': None, 'startDate': None, 'regularMarketDayLow': 167.135, 'currency': 'USD', 'trailingPE': 27.697521, 'regularMarketVolume': 69026809, 'lastMarket': None, 'maxSupply': None, 'openInterest': None, 'marketCap': 2692984078336, 'volumeAllCurrencies': None, 'strikePrice': None, 'averageVolume': 75976603, 'dayLow': 167.135, 'ask': 167.98, 'askSize': 800, 'volume': 69026809, 'fiftyTwoWeekHigh': 182.94, 'fromCurrency': None, 'fiveYearAvgDividendYield': 1.05, 'fiftyTwoWeekLow': 129.04, 'bid': 167.73, 'tradeable': False, 'dividendYield': 0.0054, 'bidSize': 900, 'dayHigh': 169.86, 'coinMarketCapLink': None, 'regularMarketPrice': 167.57, 'preMarketPrice': 169.71, 'logo_url': 'https://logo.clearbit.com/apple.com', 'trailingPegRatio': 3.1143}\n"
          ]
        },
        {
          "output_type": "execute_result",
          "data": {
            "text/plain": [
              "                 Open       High        Low      Close     Volume  Dividends  \\\n",
              "Date                                                                           \n",
              "2016-01-04  23.523348  24.156079  23.383506  24.151493  270597600        0.0   \n",
              "2016-01-05  24.243197  24.266121  23.477502  23.546276  223164000        0.0   \n",
              "2016-01-06  23.053385  23.468329  22.895204  23.085480  273829600        0.0   \n",
              "2016-01-07  22.622398  22.954810  22.106586  22.111170  324377600        0.0   \n",
              "2016-01-08  22.592599  22.720978  22.182241  22.228090  283192000        0.0   \n",
              "...               ...        ...        ...        ...        ...        ...   \n",
              "2017-12-22  41.594676  41.770886  41.551816  41.673256   65397600        0.0   \n",
              "2017-12-26  40.670768  40.830307  40.404072  40.616001  132742000        0.0   \n",
              "2017-12-27  40.504102  40.666021  40.411235  40.623161   85992800        0.0   \n",
              "2017-12-28  40.718400  40.920803  40.594577  40.737450   65920800        0.0   \n",
              "2017-12-29  40.604104  40.620771  40.294549  40.296928  103999600        0.0   \n",
              "\n",
              "            Stock Splits  \n",
              "Date                      \n",
              "2016-01-04             0  \n",
              "2016-01-05             0  \n",
              "2016-01-06             0  \n",
              "2016-01-07             0  \n",
              "2016-01-08             0  \n",
              "...                  ...  \n",
              "2017-12-22             0  \n",
              "2017-12-26             0  \n",
              "2017-12-27             0  \n",
              "2017-12-28             0  \n",
              "2017-12-29             0  \n",
              "\n",
              "[503 rows x 7 columns]"
            ],
            "text/html": [
              "\n",
              "  <div id=\"df-d8e78c4e-93e4-4ed8-8b48-366bc4188a01\">\n",
              "    <div class=\"colab-df-container\">\n",
              "      <div>\n",
              "<style scoped>\n",
              "    .dataframe tbody tr th:only-of-type {\n",
              "        vertical-align: middle;\n",
              "    }\n",
              "\n",
              "    .dataframe tbody tr th {\n",
              "        vertical-align: top;\n",
              "    }\n",
              "\n",
              "    .dataframe thead th {\n",
              "        text-align: right;\n",
              "    }\n",
              "</style>\n",
              "<table border=\"1\" class=\"dataframe\">\n",
              "  <thead>\n",
              "    <tr style=\"text-align: right;\">\n",
              "      <th></th>\n",
              "      <th>Open</th>\n",
              "      <th>High</th>\n",
              "      <th>Low</th>\n",
              "      <th>Close</th>\n",
              "      <th>Volume</th>\n",
              "      <th>Dividends</th>\n",
              "      <th>Stock Splits</th>\n",
              "    </tr>\n",
              "    <tr>\n",
              "      <th>Date</th>\n",
              "      <th></th>\n",
              "      <th></th>\n",
              "      <th></th>\n",
              "      <th></th>\n",
              "      <th></th>\n",
              "      <th></th>\n",
              "      <th></th>\n",
              "    </tr>\n",
              "  </thead>\n",
              "  <tbody>\n",
              "    <tr>\n",
              "      <th>2016-01-04</th>\n",
              "      <td>23.523348</td>\n",
              "      <td>24.156079</td>\n",
              "      <td>23.383506</td>\n",
              "      <td>24.151493</td>\n",
              "      <td>270597600</td>\n",
              "      <td>0.0</td>\n",
              "      <td>0</td>\n",
              "    </tr>\n",
              "    <tr>\n",
              "      <th>2016-01-05</th>\n",
              "      <td>24.243197</td>\n",
              "      <td>24.266121</td>\n",
              "      <td>23.477502</td>\n",
              "      <td>23.546276</td>\n",
              "      <td>223164000</td>\n",
              "      <td>0.0</td>\n",
              "      <td>0</td>\n",
              "    </tr>\n",
              "    <tr>\n",
              "      <th>2016-01-06</th>\n",
              "      <td>23.053385</td>\n",
              "      <td>23.468329</td>\n",
              "      <td>22.895204</td>\n",
              "      <td>23.085480</td>\n",
              "      <td>273829600</td>\n",
              "      <td>0.0</td>\n",
              "      <td>0</td>\n",
              "    </tr>\n",
              "    <tr>\n",
              "      <th>2016-01-07</th>\n",
              "      <td>22.622398</td>\n",
              "      <td>22.954810</td>\n",
              "      <td>22.106586</td>\n",
              "      <td>22.111170</td>\n",
              "      <td>324377600</td>\n",
              "      <td>0.0</td>\n",
              "      <td>0</td>\n",
              "    </tr>\n",
              "    <tr>\n",
              "      <th>2016-01-08</th>\n",
              "      <td>22.592599</td>\n",
              "      <td>22.720978</td>\n",
              "      <td>22.182241</td>\n",
              "      <td>22.228090</td>\n",
              "      <td>283192000</td>\n",
              "      <td>0.0</td>\n",
              "      <td>0</td>\n",
              "    </tr>\n",
              "    <tr>\n",
              "      <th>...</th>\n",
              "      <td>...</td>\n",
              "      <td>...</td>\n",
              "      <td>...</td>\n",
              "      <td>...</td>\n",
              "      <td>...</td>\n",
              "      <td>...</td>\n",
              "      <td>...</td>\n",
              "    </tr>\n",
              "    <tr>\n",
              "      <th>2017-12-22</th>\n",
              "      <td>41.594676</td>\n",
              "      <td>41.770886</td>\n",
              "      <td>41.551816</td>\n",
              "      <td>41.673256</td>\n",
              "      <td>65397600</td>\n",
              "      <td>0.0</td>\n",
              "      <td>0</td>\n",
              "    </tr>\n",
              "    <tr>\n",
              "      <th>2017-12-26</th>\n",
              "      <td>40.670768</td>\n",
              "      <td>40.830307</td>\n",
              "      <td>40.404072</td>\n",
              "      <td>40.616001</td>\n",
              "      <td>132742000</td>\n",
              "      <td>0.0</td>\n",
              "      <td>0</td>\n",
              "    </tr>\n",
              "    <tr>\n",
              "      <th>2017-12-27</th>\n",
              "      <td>40.504102</td>\n",
              "      <td>40.666021</td>\n",
              "      <td>40.411235</td>\n",
              "      <td>40.623161</td>\n",
              "      <td>85992800</td>\n",
              "      <td>0.0</td>\n",
              "      <td>0</td>\n",
              "    </tr>\n",
              "    <tr>\n",
              "      <th>2017-12-28</th>\n",
              "      <td>40.718400</td>\n",
              "      <td>40.920803</td>\n",
              "      <td>40.594577</td>\n",
              "      <td>40.737450</td>\n",
              "      <td>65920800</td>\n",
              "      <td>0.0</td>\n",
              "      <td>0</td>\n",
              "    </tr>\n",
              "    <tr>\n",
              "      <th>2017-12-29</th>\n",
              "      <td>40.604104</td>\n",
              "      <td>40.620771</td>\n",
              "      <td>40.294549</td>\n",
              "      <td>40.296928</td>\n",
              "      <td>103999600</td>\n",
              "      <td>0.0</td>\n",
              "      <td>0</td>\n",
              "    </tr>\n",
              "  </tbody>\n",
              "</table>\n",
              "<p>503 rows × 7 columns</p>\n",
              "</div>\n",
              "      <button class=\"colab-df-convert\" onclick=\"convertToInteractive('df-d8e78c4e-93e4-4ed8-8b48-366bc4188a01')\"\n",
              "              title=\"Convert this dataframe to an interactive table.\"\n",
              "              style=\"display:none;\">\n",
              "        \n",
              "  <svg xmlns=\"http://www.w3.org/2000/svg\" height=\"24px\"viewBox=\"0 0 24 24\"\n",
              "       width=\"24px\">\n",
              "    <path d=\"M0 0h24v24H0V0z\" fill=\"none\"/>\n",
              "    <path d=\"M18.56 5.44l.94 2.06.94-2.06 2.06-.94-2.06-.94-.94-2.06-.94 2.06-2.06.94zm-11 1L8.5 8.5l.94-2.06 2.06-.94-2.06-.94L8.5 2.5l-.94 2.06-2.06.94zm10 10l.94 2.06.94-2.06 2.06-.94-2.06-.94-.94-2.06-.94 2.06-2.06.94z\"/><path d=\"M17.41 7.96l-1.37-1.37c-.4-.4-.92-.59-1.43-.59-.52 0-1.04.2-1.43.59L10.3 9.45l-7.72 7.72c-.78.78-.78 2.05 0 2.83L4 21.41c.39.39.9.59 1.41.59.51 0 1.02-.2 1.41-.59l7.78-7.78 2.81-2.81c.8-.78.8-2.07 0-2.86zM5.41 20L4 18.59l7.72-7.72 1.47 1.35L5.41 20z\"/>\n",
              "  </svg>\n",
              "      </button>\n",
              "      \n",
              "  <style>\n",
              "    .colab-df-container {\n",
              "      display:flex;\n",
              "      flex-wrap:wrap;\n",
              "      gap: 12px;\n",
              "    }\n",
              "\n",
              "    .colab-df-convert {\n",
              "      background-color: #E8F0FE;\n",
              "      border: none;\n",
              "      border-radius: 50%;\n",
              "      cursor: pointer;\n",
              "      display: none;\n",
              "      fill: #1967D2;\n",
              "      height: 32px;\n",
              "      padding: 0 0 0 0;\n",
              "      width: 32px;\n",
              "    }\n",
              "\n",
              "    .colab-df-convert:hover {\n",
              "      background-color: #E2EBFA;\n",
              "      box-shadow: 0px 1px 2px rgba(60, 64, 67, 0.3), 0px 1px 3px 1px rgba(60, 64, 67, 0.15);\n",
              "      fill: #174EA6;\n",
              "    }\n",
              "\n",
              "    [theme=dark] .colab-df-convert {\n",
              "      background-color: #3B4455;\n",
              "      fill: #D2E3FC;\n",
              "    }\n",
              "\n",
              "    [theme=dark] .colab-df-convert:hover {\n",
              "      background-color: #434B5C;\n",
              "      box-shadow: 0px 1px 3px 1px rgba(0, 0, 0, 0.15);\n",
              "      filter: drop-shadow(0px 1px 2px rgba(0, 0, 0, 0.3));\n",
              "      fill: #FFFFFF;\n",
              "    }\n",
              "  </style>\n",
              "\n",
              "      <script>\n",
              "        const buttonEl =\n",
              "          document.querySelector('#df-d8e78c4e-93e4-4ed8-8b48-366bc4188a01 button.colab-df-convert');\n",
              "        buttonEl.style.display =\n",
              "          google.colab.kernel.accessAllowed ? 'block' : 'none';\n",
              "\n",
              "        async function convertToInteractive(key) {\n",
              "          const element = document.querySelector('#df-d8e78c4e-93e4-4ed8-8b48-366bc4188a01');\n",
              "          const dataTable =\n",
              "            await google.colab.kernel.invokeFunction('convertToInteractive',\n",
              "                                                     [key], {});\n",
              "          if (!dataTable) return;\n",
              "\n",
              "          const docLinkHtml = 'Like what you see? Visit the ' +\n",
              "            '<a target=\"_blank\" href=https://colab.research.google.com/notebooks/data_table.ipynb>data table notebook</a>'\n",
              "            + ' to learn more about interactive tables.';\n",
              "          element.innerHTML = '';\n",
              "          dataTable['output_type'] = 'display_data';\n",
              "          await google.colab.output.renderOutput(dataTable, element);\n",
              "          const docLink = document.createElement('div');\n",
              "          docLink.innerHTML = docLinkHtml;\n",
              "          element.appendChild(docLink);\n",
              "        }\n",
              "      </script>\n",
              "    </div>\n",
              "  </div>\n",
              "  "
            ]
          },
          "metadata": {},
          "execution_count": 34
        }
      ]
    },
    {
      "cell_type": "markdown",
      "metadata": {
        "id": "NkFztSYhJyVA"
      },
      "source": [
        "We will create a Series named \"aapl\" whose values are Apple's daily closing prices, which are of course indexed by dates:"
      ]
    },
    {
      "cell_type": "code",
      "metadata": {
        "id": "QDJbOpCeHW91"
      },
      "source": [
        "aapl = aapl_table['Close']['2017'] # crea una serie con los valores de \"close\" y \"2017\" de la matris generada arriba"
      ],
      "execution_count": 35,
      "outputs": []
    },
    {
      "cell_type": "code",
      "metadata": {
        "colab": {
          "base_uri": "https://localhost:8080/"
        },
        "id": "SXfgCQJOHW91",
        "outputId": "a3926e7d-2e81-4a59-c547-5a35aa9d273d"
      },
      "source": [
        "print(aapl)"
      ],
      "execution_count": 36,
      "outputs": [
        {
          "output_type": "stream",
          "name": "stdout",
          "text": [
            "Date\n",
            "2017-01-03    27.219831\n",
            "2017-01-04    27.189367\n",
            "2017-01-05    27.327637\n",
            "2017-01-06    27.632290\n",
            "2017-01-09    27.885391\n",
            "                ...    \n",
            "2017-12-22    41.673256\n",
            "2017-12-26    40.616001\n",
            "2017-12-27    40.623161\n",
            "2017-12-28    40.737450\n",
            "2017-12-29    40.296928\n",
            "Name: Close, Length: 251, dtype: float64\n"
          ]
        }
      ]
    },
    {
      "cell_type": "markdown",
      "metadata": {
        "id": "waUEgBhzKEcA"
      },
      "source": [
        "Recall that we can fetch a specific data point using series['yyyy-mm-dd']. We can also fetch the data in a specific month using series['yyyy-mm']."
      ]
    },
    {
      "cell_type": "code",
      "metadata": {
        "colab": {
          "base_uri": "https://localhost:8080/"
        },
        "id": "2gS50G0zHW92",
        "outputId": "cf71b911-574f-4c5a-8089-3aeb5e36db1a"
      },
      "source": [
        "print(aapl['2017-3']) #imprime todos los que corresponden (o tienen key) de la fecha 2017-03"
      ],
      "execution_count": 37,
      "outputs": [
        {
          "output_type": "stream",
          "name": "stdout",
          "text": [
            "Date\n",
            "2017-03-01    32.901920\n",
            "2017-03-02    32.706570\n",
            "2017-03-03    32.899563\n",
            "2017-03-06    32.796001\n",
            "2017-03-07    32.838364\n",
            "2017-03-08    32.715981\n",
            "2017-03-09    32.640656\n",
            "2017-03-10    32.748932\n",
            "2017-03-13    32.763046\n",
            "2017-03-14    32.713627\n",
            "2017-03-15    33.059620\n",
            "2017-03-16    33.113750\n",
            "2017-03-17    32.948986\n",
            "2017-03-20    33.294987\n",
            "2017-03-21    32.913685\n",
            "2017-03-22    33.285557\n",
            "2017-03-23    33.167881\n",
            "2017-03-24    33.101974\n",
            "2017-03-27    33.158463\n",
            "2017-03-28    33.845730\n",
            "2017-03-29    33.921059\n",
            "2017-03-30    33.876335\n",
            "2017-03-31    33.812786\n",
            "Name: Close, dtype: float64\n"
          ]
        }
      ]
    },
    {
      "cell_type": "code",
      "metadata": {
        "colab": {
          "base_uri": "https://localhost:8080/"
        },
        "id": "vpvxGwXtHW92",
        "outputId": "5cd0f519-58fc-4ca4-8df1-bc4099ad9ab6"
      },
      "source": [
        "aapl['2017-2':'2017-4'] # imprime los que tienen key en el margen de 2017-2 y 2017-4"
      ],
      "execution_count": 38,
      "outputs": [
        {
          "output_type": "execute_result",
          "data": {
            "text/plain": [
              "Date\n",
              "2017-02-01    30.172653\n",
              "2017-02-02    30.121096\n",
              "2017-02-03    30.249994\n",
              "2017-02-06    30.533545\n",
              "2017-02-07    30.824148\n",
              "                ...    \n",
              "2017-04-24    33.808079\n",
              "2017-04-25    34.017555\n",
              "2017-04-26    33.817490\n",
              "2017-04-27    33.843391\n",
              "2017-04-28    33.810429\n",
              "Name: Close, Length: 61, dtype: float64"
            ]
          },
          "metadata": {},
          "execution_count": 38
        }
      ]
    },
    {
      "cell_type": "markdown",
      "metadata": {
        "id": "lWwoD39pKNKb"
      },
      "source": [
        ".head(N) and .tail(N) are methods for quickly accessing the first or last N elements."
      ]
    },
    {
      "cell_type": "code",
      "metadata": {
        "colab": {
          "base_uri": "https://localhost:8080/"
        },
        "id": "1eU218ALHW93",
        "outputId": "6416b1d1-ec75-4501-bcc0-aeff67515dd6"
      },
      "source": [
        "print(aapl.head(5)) #imprime los 5 primeros valores de la tabla\n",
        "print(aapl.tail(10)) #imprime los ultimos 10 valores de la tabla"
      ],
      "execution_count": 39,
      "outputs": [
        {
          "output_type": "stream",
          "name": "stdout",
          "text": [
            "Date\n",
            "2017-01-03    27.219831\n",
            "2017-01-04    27.189367\n",
            "2017-01-05    27.327637\n",
            "2017-01-06    27.632290\n",
            "2017-01-09    27.885391\n",
            "Name: Close, dtype: float64\n",
            "Date\n",
            "2017-12-15    41.425617\n",
            "2017-12-18    42.008999\n",
            "2017-12-19    41.561340\n",
            "2017-12-20    41.516102\n",
            "2017-12-21    41.673256\n",
            "2017-12-22    41.673256\n",
            "2017-12-26    40.616001\n",
            "2017-12-27    40.623161\n",
            "2017-12-28    40.737450\n",
            "2017-12-29    40.296928\n",
            "Name: Close, dtype: float64\n"
          ]
        }
      ]
    },
    {
      "cell_type": "markdown",
      "metadata": {
        "id": "IxhKxtj-KQ66"
      },
      "source": [
        "# Resampling\n",
        "**_series.resample(freq)_** is a class called \"DatetimeIndexResampler\" which groups data in a Series object into regular time intervals. The argument \"freq\" determines the length of each interval.\n",
        "\n",
        "**_series.resample.mean()_** is a complete statement that groups data into intervals, and then compute the mean of each interval. For example, if we want to aggregate the daily data into monthly data by mean:"
      ]
    },
    {
      "cell_type": "code",
      "metadata": {
        "colab": {
          "base_uri": "https://localhost:8080/"
        },
        "id": "rAV8NkHkHW93",
        "outputId": "4ba86aad-f50e-4f93-d380-826bf9270f44"
      },
      "source": [
        "by_month = aapl.resample('M').mean() #agrupa los datos de la serie promediandolos en intervalos de tiempo, en este caso mensual\n",
        "print(by_month)"
      ],
      "execution_count": 40,
      "outputs": [
        {
          "output_type": "stream",
          "name": "stdout",
          "text": [
            "Date\n",
            "2017-01-31    28.021312\n",
            "2017-02-28    31.430156\n",
            "2017-03-31    33.096760\n",
            "2017-04-30    33.630810\n",
            "2017-05-31    35.924382\n",
            "2017-06-30    34.938205\n",
            "2017-07-31    35.048844\n",
            "2017-08-31    37.686052\n",
            "2017-09-30    37.395192\n",
            "2017-10-31    37.444725\n",
            "2017-11-30    41.004148\n",
            "2017-12-31    40.930682\n",
            "Freq: M, Name: Close, dtype: float64\n"
          ]
        }
      ]
    },
    {
      "cell_type": "markdown",
      "metadata": {
        "id": "QDPfVzBEKV6Q"
      },
      "source": [
        "We can also aggregate the data by week:"
      ]
    },
    {
      "cell_type": "code",
      "metadata": {
        "colab": {
          "base_uri": "https://localhost:8080/"
        },
        "id": "aAP3tKkBHW94",
        "outputId": "be3d301f-d5b4-44ac-8bfb-74ebaefa9130"
      },
      "source": [
        "by_week = aapl.resample('W').mean() #agrupa los datos de la serie en intervalos semanales promediandolos\n",
        "print(by_week.head())"
      ],
      "execution_count": 41,
      "outputs": [
        {
          "output_type": "stream",
          "name": "stdout",
          "text": [
            "Date\n",
            "2017-01-08    27.342281\n",
            "2017-01-15    27.941164\n",
            "2017-01-22    28.108606\n",
            "2017-01-29    28.394868\n",
            "2017-02-05    29.497255\n",
            "Freq: W-SUN, Name: Close, dtype: float64\n"
          ]
        }
      ]
    },
    {
      "cell_type": "markdown",
      "metadata": {
        "id": "o_MXSVsILoBS"
      },
      "source": [
        "We can also aggregate the data by month with max:"
      ]
    },
    {
      "cell_type": "code",
      "metadata": {
        "colab": {
          "base_uri": "https://localhost:8080/"
        },
        "id": "gn0wqXBTHW95",
        "outputId": "efdf2d40-734d-4634-b7d5-89a3a9e1fcfe"
      },
      "source": [
        "aapl.resample('M').max() #agrupa los datos de la serie eligiendo el max de cada intervalo mensual"
      ],
      "execution_count": 42,
      "outputs": [
        {
          "output_type": "execute_result",
          "data": {
            "text/plain": [
              "Date\n",
              "2017-01-31    28.579067\n",
              "2017-02-28    32.271137\n",
              "2017-03-31    33.921059\n",
              "2017-04-30    34.074047\n",
              "2017-05-31    36.892406\n",
              "2017-06-30    36.738781\n",
              "2017-07-31    36.268475\n",
              "2017-08-31    38.911686\n",
              "2017-09-30    38.923542\n",
              "2017-10-31    40.107491\n",
              "2017-11-30    41.815830\n",
              "2017-12-31    42.008999\n",
              "Freq: M, Name: Close, dtype: float64"
            ]
          },
          "metadata": {},
          "execution_count": 42
        }
      ]
    },
    {
      "cell_type": "markdown",
      "metadata": {
        "id": "Z8r46UFlLdAh"
      },
      "source": [
        "We can choose almost any frequency by using the format 'nf', where 'n' is an integer and 'f' is M for month, W for week and D for day."
      ]
    },
    {
      "cell_type": "code",
      "metadata": {
        "colab": {
          "base_uri": "https://localhost:8080/"
        },
        "id": "kdVB_-JFHW96",
        "outputId": "59aba5f7-ea64-457a-ec6a-e5ad049003ed"
      },
      "source": [
        "three_day = aapl.resample('3D').mean() #cada 3 dias\n",
        "two_week = aapl.resample('2W').mean() #cada 2 semanas\n",
        "two_month = aapl.resample('2M').mean() #cada 2 meses\n",
        "\n",
        "\n",
        "print(three_day)\n",
        "print(two_week)\n",
        "print(two_month )"
      ],
      "execution_count": 43,
      "outputs": [
        {
          "output_type": "stream",
          "name": "stdout",
          "text": [
            "Date\n",
            "2017-01-03    27.245612\n",
            "2017-01-06    27.632290\n",
            "2017-01-09    27.954133\n",
            "2017-01-12    27.921711\n",
            "2017-01-15    28.122080\n",
            "                ...    \n",
            "2017-12-17    41.785170\n",
            "2017-12-20    41.620871\n",
            "2017-12-23          NaN\n",
            "2017-12-26    40.658871\n",
            "2017-12-29    40.296928\n",
            "Freq: 3D, Name: Close, Length: 121, dtype: float64\n",
            "Date\n",
            "2017-01-08    27.342281\n",
            "2017-01-22    28.015583\n",
            "2017-02-05    28.946061\n",
            "2017-02-19    31.341195\n",
            "2017-03-05    32.413924\n",
            "2017-03-19    32.833896\n",
            "2017-04-02    33.437846\n",
            "2017-04-16    33.661105\n",
            "2017-04-30    33.603545\n",
            "2017-05-14    35.498715\n",
            "2017-05-28    36.292812\n",
            "2017-06-11    36.311535\n",
            "2017-06-25    34.336637\n",
            "2017-07-09    34.074198\n",
            "2017-07-23    35.082286\n",
            "2017-08-06    36.070651\n",
            "2017-08-20    37.692904\n",
            "2017-09-03    38.244488\n",
            "2017-09-17    38.069385\n",
            "2017-10-01    36.635583\n",
            "2017-10-15    36.865020\n",
            "2017-10-29    37.546922\n",
            "2017-11-12    40.803593\n",
            "2017-11-26    40.974774\n",
            "2017-12-10    40.639342\n",
            "2017-12-24    41.388942\n",
            "2018-01-07    40.568385\n",
            "Freq: 2W-SUN, Name: Close, dtype: float64\n",
            "Date\n",
            "2017-01-31    28.021312\n",
            "2017-03-31    32.342820\n",
            "2017-05-31    34.861507\n",
            "2017-07-31    34.990890\n",
            "2017-09-30    37.550768\n",
            "2017-11-30    39.183048\n",
            "2018-01-31    40.930682\n",
            "Freq: 2M, Name: Close, dtype: float64\n"
          ]
        }
      ]
    },
    {
      "cell_type": "markdown",
      "metadata": {
        "id": "iy4RqsnwL-Bw"
      },
      "source": [
        "Besides the mean() method, other methods can also be used with the resampler:\n",
        "\n"
      ]
    },
    {
      "cell_type": "code",
      "metadata": {
        "colab": {
          "base_uri": "https://localhost:8080/"
        },
        "id": "DNT8Fx9dHW96",
        "outputId": "fd7aff9d-11b5-44f5-840b-41035a87dcdf"
      },
      "source": [
        "std = aapl.resample('W').std() #agrupa semanalmente y calcula desviasion estandar\n",
        "max = aapl.resample('W').max() #maximo\n",
        "min = aapl.resample('W').min() #minimo\n",
        "\n",
        "\n",
        "print(std)\n",
        "print(max)\n",
        "print(min)"
      ],
      "execution_count": 44,
      "outputs": [
        {
          "output_type": "stream",
          "name": "stdout",
          "text": [
            "Date\n",
            "2017-01-08    0.202234\n",
            "2017-01-15    0.072125\n",
            "2017-01-22    0.025410\n",
            "2017-01-29    0.243921\n",
            "2017-02-05    0.938006\n",
            "2017-02-12    0.250599\n",
            "2017-02-19    0.230104\n",
            "2017-02-26    0.059017\n",
            "2017-03-05    0.338198\n",
            "2017-03-12    0.075860\n",
            "2017-03-19    0.176845\n",
            "2017-03-26    0.156387\n",
            "2017-04-02    0.318027\n",
            "2017-04-09    0.127972\n",
            "2017-04-16    0.211292\n",
            "2017-04-23    0.173694\n",
            "2017-04-30    0.089524\n",
            "2017-05-07    0.234327\n",
            "2017-05-14    0.351014\n",
            "2017-05-21    0.533104\n",
            "2017-05-28    0.060055\n",
            "2017-06-04    0.279656\n",
            "2017-06-11    0.616583\n",
            "2017-06-18    0.380440\n",
            "2017-06-25    0.128174\n",
            "2017-07-02    0.262635\n",
            "2017-07-09    0.158009\n",
            "2017-07-16    0.402028\n",
            "2017-07-23    0.124289\n",
            "2017-07-30    0.382302\n",
            "2017-08-06    0.919245\n",
            "2017-08-13    0.464858\n",
            "2017-08-20    0.432825\n",
            "2017-08-27    0.274234\n",
            "2017-09-03    0.250324\n",
            "2017-09-10    0.379514\n",
            "2017-09-17    0.292500\n",
            "2017-09-24    0.731098\n",
            "2017-10-01    0.352863\n",
            "2017-10-08    0.203715\n",
            "2017-10-15    0.118075\n",
            "2017-10-22    0.514117\n",
            "2017-10-29    0.676662\n",
            "2017-11-05    0.557562\n",
            "2017-11-12    0.189908\n",
            "2017-11-19    0.433769\n",
            "2017-11-26    0.559909\n",
            "2017-12-03    0.425064\n",
            "2017-12-10    0.072725\n",
            "2017-12-17    0.204124\n",
            "2017-12-24    0.193039\n",
            "2017-12-31    0.189332\n",
            "Freq: W-SUN, Name: Close, dtype: float64\n",
            "Date\n",
            "2017-01-08    27.632290\n",
            "2017-01-15    28.063494\n",
            "2017-01-22    28.122080\n",
            "2017-01-29    28.579067\n",
            "2017-02-05    30.249994\n",
            "2017-02-12    31.167265\n",
            "2017-02-19    31.943972\n",
            "2017-02-26    32.271137\n",
            "2017-03-05    32.901920\n",
            "2017-03-12    32.838364\n",
            "2017-03-19    33.113750\n",
            "2017-03-26    33.294987\n",
            "2017-04-02    33.921059\n",
            "2017-04-09    34.074047\n",
            "2017-04-16    33.697453\n",
            "2017-04-23    33.525635\n",
            "2017-04-30    34.017555\n",
            "2017-05-07    35.060234\n",
            "2017-05-14    36.892406\n",
            "2017-05-21    36.797874\n",
            "2017-05-28    36.393730\n",
            "2017-06-04    36.738781\n",
            "2017-06-11    36.719875\n",
            "2017-06-18    34.644833\n",
            "2017-06-25    34.585739\n",
            "2017-07-02    34.465199\n",
            "2017-07-09    34.075253\n",
            "2017-07-16    35.223854\n",
            "2017-07-23    35.691799\n",
            "2017-07-30    36.268475\n",
            "2017-08-06    37.138191\n",
            "2017-08-13    38.064629\n",
            "2017-08-20    38.342239\n",
            "2017-08-27    37.957874\n",
            "2017-09-03    38.923542\n",
            "2017-09-10    38.456135\n",
            "2017-09-17    38.318512\n",
            "2017-09-24    37.661285\n",
            "2017-10-01    36.593586\n",
            "2017-10-08    36.868824\n",
            "2017-10-15    37.248451\n",
            "2017-10-22    38.074123\n",
            "2017-10-29    38.686272\n",
            "2017-11-05    40.928452\n",
            "2017-11-12    41.815830\n",
            "2017-11-19    41.425617\n",
            "2017-11-26    41.663731\n",
            "2017-12-03    41.454185\n",
            "2017-12-10    40.432663\n",
            "2017-12-17    41.425617\n",
            "2017-12-24    42.008999\n",
            "2017-12-31    40.737450\n",
            "Freq: W-SUN, Name: Close, dtype: float64\n",
            "Date\n",
            "2017-01-08    27.189367\n",
            "2017-01-15    27.885391\n",
            "2017-01-22    28.070526\n",
            "2017-01-29    28.115055\n",
            "2017-02-05    28.438457\n",
            "2017-02-12    30.533545\n",
            "2017-02-19    31.372032\n",
            "2017-02-26    32.134617\n",
            "2017-03-05    32.228767\n",
            "2017-03-12    32.640656\n",
            "2017-03-19    32.713627\n",
            "2017-03-26    32.913685\n",
            "2017-04-02    33.158463\n",
            "2017-04-09    33.737469\n",
            "2017-04-16    33.198475\n",
            "2017-04-23    33.111401\n",
            "2017-04-30    33.808079\n",
            "2017-05-07    34.488289\n",
            "2017-05-14    36.013470\n",
            "2017-05-21    35.509830\n",
            "2017-05-28    36.240108\n",
            "2017-06-04    36.103031\n",
            "2017-06-11    35.209667\n",
            "2017-06-18    33.623833\n",
            "2017-06-25    34.271408\n",
            "2017-07-02    33.957077\n",
            "2017-07-09    33.732555\n",
            "2017-07-16    34.283230\n",
            "2017-07-23    35.346752\n",
            "2017-07-30    35.332565\n",
            "2017-08-06    35.150578\n",
            "2017-08-13    36.852211\n",
            "2017-08-20    37.369446\n",
            "2017-08-27    37.300636\n",
            "2017-09-03    38.311394\n",
            "2017-09-10    37.637558\n",
            "2017-09-17    37.554516\n",
            "2017-09-24    36.038380\n",
            "2017-10-01    35.720455\n",
            "2017-10-08    36.415638\n",
            "2017-10-15    36.975582\n",
            "2017-10-22    37.008797\n",
            "2017-10-29    37.053883\n",
            "2017-11-05    39.557045\n",
            "2017-11-12    41.343658\n",
            "2017-11-19    40.261208\n",
            "2017-11-26    40.475513\n",
            "2017-12-03    40.356453\n",
            "2017-12-10    40.244537\n",
            "2017-12-17    40.885078\n",
            "2017-12-24    41.516102\n",
            "2017-12-31    40.296928\n",
            "Freq: W-SUN, Name: Close, dtype: float64\n"
          ]
        }
      ]
    },
    {
      "cell_type": "markdown",
      "metadata": {
        "id": "uqln0s5DMI3I"
      },
      "source": [
        "Often we want to calculate monthly returns of a stock, based on prices on the last day of each month. To fetch those prices, we use the series.resample.agg() method:"
      ]
    },
    {
      "cell_type": "code",
      "metadata": {
        "colab": {
          "base_uri": "https://localhost:8080/"
        },
        "id": "A6FSYvqbHW97",
        "outputId": "8b10ffc7-d1a2-413a-eb6e-af006dcbf652"
      },
      "source": [
        "last_day = aapl.resample('M').agg(lambda x: x[-1]) #calcula los retornos de un stock basado en los precios del ultimo dia de la agrupacion del mes de la serie\n",
        "print(last_day)"
      ],
      "execution_count": 45,
      "outputs": [
        {
          "output_type": "stream",
          "name": "stdout",
          "text": [
            "Date\n",
            "2017-01-31    28.438457\n",
            "2017-02-28    32.242886\n",
            "2017-03-31    33.812786\n",
            "2017-04-30    33.810429\n",
            "2017-05-31    36.103031\n",
            "2017-06-30    34.037434\n",
            "2017-07-31    35.150578\n",
            "2017-08-31    38.911686\n",
            "2017-09-30    36.567486\n",
            "2017-10-31    40.107491\n",
            "2017-11-30    40.920799\n",
            "2017-12-31    40.296928\n",
            "Freq: M, Name: Close, dtype: float64\n"
          ]
        }
      ]
    },
    {
      "cell_type": "markdown",
      "metadata": {
        "id": "uwomY3aXMR46"
      },
      "source": [
        "Or directly calculate the monthly rates of return using the data for the first day and the last day:"
      ]
    },
    {
      "cell_type": "code",
      "metadata": {
        "colab": {
          "base_uri": "https://localhost:8080/"
        },
        "id": "qK2NMJrNHW96",
        "outputId": "d5f5a43a-e194-4a5a-8310-918b69458b4d"
      },
      "source": [
        "monthly_return = aapl.resample('M').agg(lambda x: x[-1]/x[0] - 1) #lo mismo de arriba pero eligiendo el 1mer y ultimo dia del mes\n",
        "print(monthly_return)"
      ],
      "execution_count": 46,
      "outputs": [
        {
          "output_type": "stream",
          "name": "stdout",
          "text": [
            "Date\n",
            "2017-01-31    0.044770\n",
            "2017-02-28    0.068613\n",
            "2017-03-31    0.027684\n",
            "2017-04-30   -0.000348\n",
            "2017-05-31    0.046463\n",
            "2017-06-30   -0.059799\n",
            "2017-07-31    0.036446\n",
            "2017-08-31    0.097261\n",
            "2017-09-30   -0.060530\n",
            "2017-10-31    0.099018\n",
            "2017-11-30    0.033422\n",
            "2017-12-31   -0.010640\n",
            "Freq: M, Name: Close, dtype: float64\n"
          ]
        }
      ]
    },
    {
      "cell_type": "markdown",
      "metadata": {
        "id": "_DYbMTFWMj8J"
      },
      "source": [
        "Series object also provides us some convenient methods to do some quick calculation."
      ]
    },
    {
      "cell_type": "code",
      "metadata": {
        "colab": {
          "base_uri": "https://localhost:8080/"
        },
        "id": "1Mxc0HwvHW98",
        "outputId": "c9e31449-3372-410b-ea51-2e16128ffa5d"
      },
      "source": [
        "print(monthly_return.mean()) #promedio del retorno mensual\n",
        "print(monthly_return.std()) #desviacion estandar\n",
        "print(monthly_return.max()) #maximo de los retornos mensual"
      ],
      "execution_count": 47,
      "outputs": [
        {
          "output_type": "stream",
          "name": "stdout",
          "text": [
            "0.026863280796706263\n",
            "0.05225851901293624\n",
            "0.0990179859942848\n"
          ]
        }
      ]
    },
    {
      "cell_type": "markdown",
      "metadata": {
        "id": "mn59J5dqMpqX"
      },
      "source": [
        "Another two methods frequently used on Series are .diff() and .pct_change(). The former calculates the difference between consecutive elements, and the latter calculates the percentage change."
      ]
    },
    {
      "cell_type": "code",
      "metadata": {
        "colab": {
          "base_uri": "https://localhost:8080/"
        },
        "id": "DupZTSqqHW99",
        "outputId": "b16fb53e-2251-4fa1-eb10-bdfd7f6ebb0a"
      },
      "source": [
        "print(last_day)\n",
        "print(last_day.diff()) # calcula la diferencia entre valores consecutivos\n",
        "print(last_day.pct_change()) #calcula la diferencia porcentual de cambio entre valores consecutivos"
      ],
      "execution_count": 53,
      "outputs": [
        {
          "output_type": "stream",
          "name": "stdout",
          "text": [
            "Date\n",
            "2017-01-31    28.438457\n",
            "2017-02-28    32.242886\n",
            "2017-03-31    33.812786\n",
            "2017-04-30    33.810429\n",
            "2017-05-31    36.103031\n",
            "2017-06-30    34.037434\n",
            "2017-07-31    35.150578\n",
            "2017-08-31    38.911686\n",
            "2017-09-30    36.567486\n",
            "2017-10-31    40.107491\n",
            "2017-11-30    40.920799\n",
            "2017-12-31    40.296928\n",
            "Freq: M, Name: Close, dtype: float64\n",
            "Date\n",
            "2017-01-31         NaN\n",
            "2017-02-28    3.804428\n",
            "2017-03-31    1.569901\n",
            "2017-04-30   -0.002357\n",
            "2017-05-31    2.292603\n",
            "2017-06-30   -2.065598\n",
            "2017-07-31    1.113144\n",
            "2017-08-31    3.761108\n",
            "2017-09-30   -2.344200\n",
            "2017-10-31    3.540005\n",
            "2017-11-30    0.813309\n",
            "2017-12-31   -0.623871\n",
            "Freq: M, Name: Close, dtype: float64\n",
            "Date\n",
            "2017-01-31         NaN\n",
            "2017-02-28    0.133778\n",
            "2017-03-31    0.048690\n",
            "2017-04-30   -0.000070\n",
            "2017-05-31    0.067808\n",
            "2017-06-30   -0.057214\n",
            "2017-07-31    0.032704\n",
            "2017-08-31    0.107000\n",
            "2017-09-30   -0.060244\n",
            "2017-10-31    0.096807\n",
            "2017-11-30    0.020278\n",
            "2017-12-31   -0.015246\n",
            "Freq: M, Name: Close, dtype: float64\n"
          ]
        }
      ]
    },
    {
      "cell_type": "markdown",
      "metadata": {
        "id": "RaMAOFepM6Io"
      },
      "source": [
        "Notice that we induced a NaN value while calculating percentage changes i.e. returns.\n",
        "\n",
        "When dealing with NaN values, we usually either removing the data point or fill it with a specific value. Here we fill it with 0:"
      ]
    },
    {
      "cell_type": "code",
      "metadata": {
        "colab": {
          "base_uri": "https://localhost:8080/"
        },
        "id": "-xyLb3A3HW99",
        "outputId": "1672ea90-491f-4a3b-96a3-7156d11d53ec"
      },
      "source": [
        "daily_return = last_day.pct_change()\n",
        "print(daily_return.fillna(0)) # llenamos los valores NaN con 0"
      ],
      "execution_count": 54,
      "outputs": [
        {
          "output_type": "stream",
          "name": "stdout",
          "text": [
            "Date\n",
            "2017-01-31    0.000000\n",
            "2017-02-28    0.133778\n",
            "2017-03-31    0.048690\n",
            "2017-04-30   -0.000070\n",
            "2017-05-31    0.067808\n",
            "2017-06-30   -0.057214\n",
            "2017-07-31    0.032704\n",
            "2017-08-31    0.107000\n",
            "2017-09-30   -0.060244\n",
            "2017-10-31    0.096807\n",
            "2017-11-30    0.020278\n",
            "2017-12-31   -0.015246\n",
            "Freq: M, Name: Close, dtype: float64\n"
          ]
        }
      ]
    },
    {
      "cell_type": "markdown",
      "metadata": {
        "id": "BYS10Om1NQVC"
      },
      "source": [
        "Alternatively, we can fill a NaN with the next fitted value. This is called 'backward fill', or 'bfill' in short:"
      ]
    },
    {
      "cell_type": "code",
      "metadata": {
        "colab": {
          "base_uri": "https://localhost:8080/"
        },
        "id": "J513kHeKHW9-",
        "outputId": "8bd1a5c1-a9cd-4ef9-8bf1-2fecda57d2f9"
      },
      "source": [
        "daily_return = last_day.pct_change()\n",
        "print(daily_return.fillna(method = 'bfill')) # se llena los NaN con el valor siguiente"
      ],
      "execution_count": 55,
      "outputs": [
        {
          "output_type": "stream",
          "name": "stdout",
          "text": [
            "Date\n",
            "2017-01-31    0.133778\n",
            "2017-02-28    0.133778\n",
            "2017-03-31    0.048690\n",
            "2017-04-30   -0.000070\n",
            "2017-05-31    0.067808\n",
            "2017-06-30   -0.057214\n",
            "2017-07-31    0.032704\n",
            "2017-08-31    0.107000\n",
            "2017-09-30   -0.060244\n",
            "2017-10-31    0.096807\n",
            "2017-11-30    0.020278\n",
            "2017-12-31   -0.015246\n",
            "Freq: M, Name: Close, dtype: float64\n"
          ]
        }
      ]
    },
    {
      "cell_type": "markdown",
      "metadata": {
        "id": "bj8QUSgdNepf"
      },
      "source": [
        "As expected, since there is a 'backward fill' method, there must be a 'forward fill' method, or 'ffill' in short. However we can't use it here because the NaN is the first value.\n",
        "\n",
        "We can also simply remove NaN values by **_.dropna()_**"
      ]
    },
    {
      "cell_type": "code",
      "metadata": {
        "colab": {
          "base_uri": "https://localhost:8080/"
        },
        "id": "WG5ux1lqHW9-",
        "outputId": "2eb5599f-2809-43bc-db8b-8f657ae45bc5"
      },
      "source": [
        "daily_return = last_day.pct_change()\n",
        "daily_return.dropna() # se elimina los elementos que tienen NaN"
      ],
      "execution_count": 56,
      "outputs": [
        {
          "output_type": "execute_result",
          "data": {
            "text/plain": [
              "Date\n",
              "2017-02-28    0.133778\n",
              "2017-03-31    0.048690\n",
              "2017-04-30   -0.000070\n",
              "2017-05-31    0.067808\n",
              "2017-06-30   -0.057214\n",
              "2017-07-31    0.032704\n",
              "2017-08-31    0.107000\n",
              "2017-09-30   -0.060244\n",
              "2017-10-31    0.096807\n",
              "2017-11-30    0.020278\n",
              "2017-12-31   -0.015246\n",
              "Freq: M, Name: Close, dtype: float64"
            ]
          },
          "metadata": {},
          "execution_count": 56
        }
      ]
    },
    {
      "cell_type": "markdown",
      "metadata": {
        "id": "nQH2eBWkNjdC"
      },
      "source": [
        "# DataFrame\n",
        "The **DataFrame** is the most commonly used data structure in Pandas. It is essentially a table, just like an Excel spreadsheet.\n",
        "\n",
        "More precisely, a DataFrame is a collection of Series objects, each of which may contain different data types. A DataFrame can be created from various data types: dictionary, 2-D numpy.ndarray, a Series or another DataFrame.\n",
        "\n",
        "## Create DataFrames\n",
        "The most common method of creating a DataFrame is passing a dictionary:"
      ]
    },
    {
      "cell_type": "code",
      "metadata": {
        "colab": {
          "base_uri": "https://localhost:8080/"
        },
        "id": "vd5Wf1ohHW9-",
        "outputId": "69ccf460-eb6e-4156-de05-baa8edaddb9a"
      },
      "source": [
        "import pandas as pd #importa la libreria pandas\n",
        "\n",
        "dict = {'AAPL': [143.5, 144.09, 142.73, 144.18, 143.77],'GOOG':[898.7, 911.71, 906.69, 918.59, 926.99],\n",
        "        'IBM':[155.58, 153.67, 152.36, 152.94, 153.49]} # crea un diccionario\n",
        "data_index = pd.date_range('2017-07-03',periods = 5, freq = 'D') #se le asigna indexes de fecha, periodos y frecuencia diaria\n",
        "df = pd.DataFrame(dict, index = data_index) #se genera un Dataframe con .Dataframe()\n",
        "print(df)"
      ],
      "execution_count": 57,
      "outputs": [
        {
          "output_type": "stream",
          "name": "stdout",
          "text": [
            "              AAPL    GOOG     IBM\n",
            "2017-07-03  143.50  898.70  155.58\n",
            "2017-07-04  144.09  911.71  153.67\n",
            "2017-07-05  142.73  906.69  152.36\n",
            "2017-07-06  144.18  918.59  152.94\n",
            "2017-07-07  143.77  926.99  153.49\n"
          ]
        }
      ]
    },
    {
      "cell_type": "markdown",
      "metadata": {
        "id": "0uYmLQTgOPnX"
      },
      "source": [
        "## Manipulating DataFrames\n",
        "We can fetch values in a DataFrame by columns and index. Each column in a DataFrame is essentially a Pandas Series. We can fetch a column by square brackets: **df['column_name']**\n",
        "\n",
        "If a column name contains no spaces, then we can also use df.column_name to fetch a column:"
      ]
    },
    {
      "cell_type": "code",
      "metadata": {
        "colab": {
          "base_uri": "https://localhost:8080/"
        },
        "id": "2pB2f7lBHW9_",
        "outputId": "7753e0f9-92a0-453e-832e-b04d6d62c3df"
      },
      "source": [
        "df = aapl_table\n",
        "print(df.Close.tail(5)) # imprime los ultimos 5 valores de la columna de cierre\n",
        "print(df['Volume'].tail(5)) #imprime los 5 valores de la columna de volume"
      ],
      "execution_count": 61,
      "outputs": [
        {
          "output_type": "stream",
          "name": "stdout",
          "text": [
            "Date\n",
            "2017-12-22    41.673256\n",
            "2017-12-26    40.616001\n",
            "2017-12-27    40.623161\n",
            "2017-12-28    40.737450\n",
            "2017-12-29    40.296928\n",
            "Name: Close, dtype: float64\n",
            "Date\n",
            "2017-12-22     65397600\n",
            "2017-12-26    132742000\n",
            "2017-12-27     85992800\n",
            "2017-12-28     65920800\n",
            "2017-12-29    103999600\n",
            "Name: Volume, dtype: int64\n"
          ]
        }
      ]
    },
    {
      "cell_type": "markdown",
      "metadata": {
        "id": "z0ugOel9O4-P"
      },
      "source": [
        "All the methods we applied to a Series index such as iloc[], loc[] and resampling methods, can also be applied to a DataFrame:"
      ]
    },
    {
      "cell_type": "code",
      "metadata": {
        "colab": {
          "base_uri": "https://localhost:8080/"
        },
        "id": "_8dfjkedHW9_",
        "outputId": "37c32559-c87e-4253-83b1-6393da353c7b"
      },
      "source": [
        "aapl_2016 = df['2016']\n",
        "aapl_month = aapl_2016.resample('M').agg(lambda x: x[-1]) #agrupa mensualmente los elementos\n",
        "print(aapl_month)"
      ],
      "execution_count": 63,
      "outputs": [
        {
          "output_type": "stream",
          "name": "stdout",
          "text": [
            "                 Open       High        Low      Close     Volume  Dividends  \\\n",
            "Date                                                                           \n",
            "2016-01-31  21.730618  22.315205  21.629747  22.315205  257666000        0.0   \n",
            "2016-02-29  22.325654  22.641431  22.277250  22.286470  140865200        0.0   \n",
            "2016-03-31  25.289813  25.331302  25.096197  25.121552  103553600        0.0   \n",
            "2016-04-30  21.664136  21.832397  21.323005  21.606512  274126000        0.0   \n",
            "2016-05-31  23.096977  23.282495  22.916097  23.157270  169228800        0.0   \n",
            "2016-06-30  21.900386  22.208808  21.867920  22.169386  143345600        0.0   \n",
            "2016-07-31  24.161392  24.244875  24.043124  24.166029  110934800        0.0   \n",
            "2016-08-31  24.635012  24.847181  24.630348  24.737598  118649600        0.0   \n",
            "2016-09-30  26.220459  26.432630  26.066579  26.358021  145516400        0.0   \n",
            "2016-10-31  26.497910  26.633140  26.392990  26.472263  105677600        0.0   \n",
            "2016-11-30  26.153537  26.294148  25.841851  25.900438  144649200        0.0   \n",
            "2016-12-31  27.337008  27.465899  27.051099  27.142496  122345200        0.0   \n",
            "\n",
            "            Stock Splits  \n",
            "Date                      \n",
            "2016-01-31             0  \n",
            "2016-02-29             0  \n",
            "2016-03-31             0  \n",
            "2016-04-30             0  \n",
            "2016-05-31             0  \n",
            "2016-06-30             0  \n",
            "2016-07-31             0  \n",
            "2016-08-31             0  \n",
            "2016-09-30             0  \n",
            "2016-10-31             0  \n",
            "2016-11-30             0  \n",
            "2016-12-31             0  \n"
          ]
        },
        {
          "output_type": "stream",
          "name": "stderr",
          "text": [
            "/usr/local/lib/python3.7/dist-packages/ipykernel_launcher.py:1: FutureWarning: Indexing a DataFrame with a datetimelike index using a single string to slice the rows, like `frame[string]`, is deprecated and will be removed in a future version. Use `frame.loc[string]` instead.\n",
            "  \"\"\"Entry point for launching an IPython kernel.\n"
          ]
        }
      ]
    },
    {
      "cell_type": "markdown",
      "metadata": {
        "id": "CqrbrbFZPTJe"
      },
      "source": [
        "We may select certain columns of a DataFrame using their names:"
      ]
    },
    {
      "cell_type": "code",
      "metadata": {
        "colab": {
          "base_uri": "https://localhost:8080/"
        },
        "id": "7bQGeyCAHW9_",
        "outputId": "afe40707-2afc-4824-ef47-6a022128b5cf"
      },
      "source": [
        "aapl_bar = aapl_month[['Open', 'High', 'Low', 'Close']] # se selecionan solamente 4 columnas de la Dataframe\n",
        "print(aapl_bar)"
      ],
      "execution_count": 66,
      "outputs": [
        {
          "output_type": "stream",
          "name": "stdout",
          "text": [
            "                 Open       High        Low      Close\n",
            "Date                                                  \n",
            "2016-01-31  21.730618  22.315205  21.629747  22.315205\n",
            "2016-02-29  22.325654  22.641431  22.277250  22.286470\n",
            "2016-03-31  25.289813  25.331302  25.096197  25.121552\n",
            "2016-04-30  21.664136  21.832397  21.323005  21.606512\n",
            "2016-05-31  23.096977  23.282495  22.916097  23.157270\n",
            "2016-06-30  21.900386  22.208808  21.867920  22.169386\n",
            "2016-07-31  24.161392  24.244875  24.043124  24.166029\n",
            "2016-08-31  24.635012  24.847181  24.630348  24.737598\n",
            "2016-09-30  26.220459  26.432630  26.066579  26.358021\n",
            "2016-10-31  26.497910  26.633140  26.392990  26.472263\n",
            "2016-11-30  26.153537  26.294148  25.841851  25.900438\n",
            "2016-12-31  27.337008  27.465899  27.051099  27.142496\n"
          ]
        }
      ]
    },
    {
      "cell_type": "markdown",
      "metadata": {
        "id": "8CQaZCAQP68O"
      },
      "source": [
        "We can even specify both rows and columns using loc[]. The row indices and column names are separated by a comma:"
      ]
    },
    {
      "cell_type": "code",
      "metadata": {
        "colab": {
          "base_uri": "https://localhost:8080/"
        },
        "id": "YjWWiHVpHW-A",
        "outputId": "b3f84614-2761-4f08-d0cf-dc869871caa9"
      },
      "source": [
        "print(aapl_month.loc['2016-03':'2016-06',['Open', 'High', 'Low', 'Close']]) # se seleccionan solamente 4 columnas y un rango de fechas"
      ],
      "execution_count": 67,
      "outputs": [
        {
          "output_type": "stream",
          "name": "stdout",
          "text": [
            "                 Open       High        Low      Close\n",
            "Date                                                  \n",
            "2016-03-31  25.289813  25.331302  25.096197  25.121552\n",
            "2016-04-30  21.664136  21.832397  21.323005  21.606512\n",
            "2016-05-31  23.096977  23.282495  22.916097  23.157270\n",
            "2016-06-30  21.900386  22.208808  21.867920  22.169386\n"
          ]
        }
      ]
    },
    {
      "cell_type": "markdown",
      "metadata": {
        "id": "Xcn_pHNLQBEH"
      },
      "source": [
        "The subset methods in DataFrame is quite useful. By writing logical statements in square brackets, we can make customized subsets:"
      ]
    },
    {
      "cell_type": "code",
      "metadata": {
        "colab": {
          "base_uri": "https://localhost:8080/"
        },
        "id": "RxKg4dObHW-A",
        "outputId": "b7a583a5-0a06-4021-fbfd-f3ff0d45c889"
      },
      "source": [
        "import numpy as np #se importa NumPy\n",
        "\n",
        "above = aapl_bar[aapl_bar.Close > np.mean(aapl_bar.Close)] # se genera una tabla donde los valores de cierre sean menores del promedio\n",
        "\n",
        "print(above)"
      ],
      "execution_count": 68,
      "outputs": [
        {
          "output_type": "stream",
          "name": "stdout",
          "text": [
            "                 Open       High        Low      Close\n",
            "Date                                                  \n",
            "2016-03-31  25.289813  25.331302  25.096197  25.121552\n",
            "2016-08-31  24.635012  24.847181  24.630348  24.737598\n",
            "2016-09-30  26.220459  26.432630  26.066579  26.358021\n",
            "2016-10-31  26.497910  26.633140  26.392990  26.472263\n",
            "2016-11-30  26.153537  26.294148  25.841851  25.900438\n",
            "2016-12-31  27.337008  27.465899  27.051099  27.142496\n"
          ]
        }
      ]
    },
    {
      "cell_type": "markdown",
      "metadata": {
        "id": "wcm_UadkQLL5"
      },
      "source": [
        "## Data Validation\n",
        "As mentioned, all methods that apply to a Series can also be applied to a DataFrame. Here we add a new column to an existing DataFrame:"
      ]
    },
    {
      "cell_type": "code",
      "metadata": {
        "colab": {
          "base_uri": "https://localhost:8080/"
        },
        "id": "jZXFdOVFHW-A",
        "outputId": "35e1d9c9-1460-417c-940e-c6fa70c9947b"
      },
      "source": [
        "aapl_bar['rate_return'] = aapl_bar.Close.pct_change() # se aplica la diferencia porcentual de cambio entre valores cercanos\n",
        "print(aapl_bar)"
      ],
      "execution_count": null,
      "outputs": [
        {
          "output_type": "stream",
          "name": "stdout",
          "text": [
            "                 Open       High        Low      Close  rate_return\n",
            "Date                                                               \n",
            "2016-01-31  21.852388  22.440250  21.750952  22.440250          NaN\n",
            "2016-02-29  22.450761  22.768308  22.402086  22.411358    -0.001288\n",
            "2016-03-31  25.431520  25.473242  25.236819  25.262316     0.127210\n",
            "2016-04-30  21.785529  21.954734  21.442488  21.727583    -0.139921\n",
            "2016-05-31  23.226409  23.412967  23.044516  23.287041     0.071773\n",
            "2016-06-30  22.023112  22.333262  21.990464  22.293619    -0.042660\n",
            "2016-07-31  24.296780  24.380731  24.177849  24.301443     0.090063\n",
            "2016-08-31  24.773054  24.986412  24.768364  24.876215     0.023652\n",
            "2016-09-30  26.367388  26.580747  26.212645  26.505720     0.065505\n",
            "2016-10-31  26.646396  26.782384  26.540888  26.620605     0.004334\n",
            "2016-11-30  26.300094  26.441492  25.986660  26.045576    -0.021601\n",
            "2016-12-31  27.490193  27.619807  27.202683  27.294592     0.047955\n"
          ]
        },
        {
          "output_type": "stream",
          "name": "stderr",
          "text": [
            "/usr/local/lib/python3.7/dist-packages/ipykernel_launcher.py:1: SettingWithCopyWarning: \n",
            "A value is trying to be set on a copy of a slice from a DataFrame.\n",
            "Try using .loc[row_indexer,col_indexer] = value instead\n",
            "\n",
            "See the caveats in the documentation: https://pandas.pydata.org/pandas-docs/stable/user_guide/indexing.html#returning-a-view-versus-a-copy\n",
            "  \"\"\"Entry point for launching an IPython kernel.\n"
          ]
        }
      ]
    },
    {
      "cell_type": "markdown",
      "metadata": {
        "id": "_or6n5-LQUa-"
      },
      "source": [
        "Here the calculation introduced a NaN value. If the DataFrame is large, we would not be able to observe it. **isnull()** provides a convenient way to check abnormal values."
      ]
    },
    {
      "cell_type": "code",
      "metadata": {
        "colab": {
          "base_uri": "https://localhost:8080/"
        },
        "id": "V5wgmhIPHW-B",
        "outputId": "cf646765-ea74-4e63-ced7-78e1ec2e1b93"
      },
      "source": [
        "missing = aapl_bar.isnull() # selecciona los lugares donde se encuentran NaN values\n",
        "print(missing)\n",
        "print('---------------------------------------------')\n",
        "print(missing.describe()) #resumen de la tabla de missing"
      ],
      "execution_count": null,
      "outputs": [
        {
          "output_type": "stream",
          "name": "stdout",
          "text": [
            "             Open   High    Low  Close  rate_return\n",
            "Date                                               \n",
            "2016-01-31  False  False  False  False         True\n",
            "2016-02-29  False  False  False  False        False\n",
            "2016-03-31  False  False  False  False        False\n",
            "2016-04-30  False  False  False  False        False\n",
            "2016-05-31  False  False  False  False        False\n",
            "2016-06-30  False  False  False  False        False\n",
            "2016-07-31  False  False  False  False        False\n",
            "2016-08-31  False  False  False  False        False\n",
            "2016-09-30  False  False  False  False        False\n",
            "2016-10-31  False  False  False  False        False\n",
            "2016-11-30  False  False  False  False        False\n",
            "2016-12-31  False  False  False  False        False\n",
            "---------------------------------------------\n",
            "         Open   High    Low  Close rate_return\n",
            "count      12     12     12     12          12\n",
            "unique      1      1      1      1           2\n",
            "top     False  False  False  False       False\n",
            "freq       12     12     12     12          11\n"
          ]
        }
      ]
    },
    {
      "cell_type": "markdown",
      "metadata": {
        "id": "d6KFV4i0QfLW"
      },
      "source": [
        "The row labelled \"unique\" indicates the number of unique values in each column. Since the \"rate_return\" column has 2 unique values, it has at least one missing value.\n",
        "\n",
        "We can deduce the number of missing values by comparing \"count\" with \"freq\". There are 12 counts and 11 False values, so there is one True value which corresponds to the missing value.\n",
        "\n",
        "We can also find the rows with missing values easily:"
      ]
    },
    {
      "cell_type": "code",
      "metadata": {
        "colab": {
          "base_uri": "https://localhost:8080/"
        },
        "id": "Eo0ZAhCsHW-B",
        "outputId": "632cc9ee-2b53-4669-d329-1af7538859f6"
      },
      "source": [
        "print(missing[missing.rate_return == True]) # selecciona filas con valroes faltantes"
      ],
      "execution_count": null,
      "outputs": [
        {
          "output_type": "stream",
          "name": "stdout",
          "text": [
            "             Open   High    Low  Close  rate_return\n",
            "Date                                               \n",
            "2016-01-31  False  False  False  False         True\n"
          ]
        }
      ]
    },
    {
      "cell_type": "markdown",
      "metadata": {
        "id": "qgggpD8OQkZX"
      },
      "source": [
        "Usually when dealing with missing data, we either delete the whole row or fill it with some value. As we introduced in the Series chapter, the same method **dropna()** and **fillna()** can be applied to a DataFrame."
      ]
    },
    {
      "cell_type": "code",
      "metadata": {
        "colab": {
          "base_uri": "https://localhost:8080/"
        },
        "id": "j8PaIokjHW-B",
        "outputId": "501fd060-83fe-4f98-e5ad-f9b0f41e525c"
      },
      "source": [
        "drop = aapl_bar.dropna() #elimina las filas donde se encuentre valores NaN\n",
        "print(drop)\n",
        "print('\\n--------------------------------------------------\\n')\n",
        "fill = aapl_bar.fillna(0) # llena los valores NaN con 0\n",
        "print(fill)"
      ],
      "execution_count": null,
      "outputs": [
        {
          "output_type": "stream",
          "name": "stdout",
          "text": [
            "                 Open       High        Low      Close  rate_return\n",
            "Date                                                               \n",
            "2016-02-29  22.450761  22.768308  22.402086  22.411358    -0.001288\n",
            "2016-03-31  25.431520  25.473242  25.236819  25.262316     0.127210\n",
            "2016-04-30  21.785529  21.954734  21.442488  21.727583    -0.139921\n",
            "2016-05-31  23.226409  23.412967  23.044516  23.287041     0.071773\n",
            "2016-06-30  22.023112  22.333262  21.990464  22.293619    -0.042660\n",
            "2016-07-31  24.296780  24.380731  24.177849  24.301443     0.090063\n",
            "2016-08-31  24.773054  24.986412  24.768364  24.876215     0.023652\n",
            "2016-09-30  26.367388  26.580747  26.212645  26.505720     0.065505\n",
            "2016-10-31  26.646396  26.782384  26.540888  26.620605     0.004334\n",
            "2016-11-30  26.300094  26.441492  25.986660  26.045576    -0.021601\n",
            "2016-12-31  27.490193  27.619807  27.202683  27.294592     0.047955\n",
            "\n",
            "--------------------------------------------------\n",
            "\n",
            "                 Open       High        Low      Close  rate_return\n",
            "Date                                                               \n",
            "2016-01-31  21.852388  22.440250  21.750952  22.440250     0.000000\n",
            "2016-02-29  22.450761  22.768308  22.402086  22.411358    -0.001288\n",
            "2016-03-31  25.431520  25.473242  25.236819  25.262316     0.127210\n",
            "2016-04-30  21.785529  21.954734  21.442488  21.727583    -0.139921\n",
            "2016-05-31  23.226409  23.412967  23.044516  23.287041     0.071773\n",
            "2016-06-30  22.023112  22.333262  21.990464  22.293619    -0.042660\n",
            "2016-07-31  24.296780  24.380731  24.177849  24.301443     0.090063\n",
            "2016-08-31  24.773054  24.986412  24.768364  24.876215     0.023652\n",
            "2016-09-30  26.367388  26.580747  26.212645  26.505720     0.065505\n",
            "2016-10-31  26.646396  26.782384  26.540888  26.620605     0.004334\n",
            "2016-11-30  26.300094  26.441492  25.986660  26.045576    -0.021601\n",
            "2016-12-31  27.490193  27.619807  27.202683  27.294592     0.047955\n"
          ]
        }
      ]
    },
    {
      "cell_type": "markdown",
      "metadata": {
        "id": "0tvoFlKWQxYG"
      },
      "source": [
        "## DataFrame Concat\n",
        "We have seen how to extract a Series from a dataFrame. Now we need to consider how to merge a Series or a DataFrame into another one.\n",
        "\n",
        "In Pandas, the function **concat()** allows us to merge multiple Series into a DataFrame:"
      ]
    },
    {
      "cell_type": "code",
      "metadata": {
        "colab": {
          "base_uri": "https://localhost:8080/"
        },
        "id": "uQrmLIWKHW-C",
        "outputId": "b60b30a0-e530-4704-d6cf-3be2d90cfee2"
      },
      "source": [
        "s1 = pd.Series([143.5, 144.09, 142.73, 144.18, 143.77], name = 'AAPL')\n",
        "s2 = pd.Series([898.7, 911.71, 906.69, 918.59, 926.99], name = 'GOOG')\n",
        "data_frame = pd.concat([s1,s2], axis = 1) # concatena ambas dataframes con concat\n",
        "print(data_frame)"
      ],
      "execution_count": 70,
      "outputs": [
        {
          "output_type": "stream",
          "name": "stdout",
          "text": [
            "     AAPL    GOOG\n",
            "0  143.50  898.70\n",
            "1  144.09  911.71\n",
            "2  142.73  906.69\n",
            "3  144.18  918.59\n",
            "4  143.77  926.99\n"
          ]
        }
      ]
    },
    {
      "cell_type": "markdown",
      "metadata": {
        "id": "3ojbNYJLR2vv"
      },
      "source": [
        "The \"axis = 1\" parameter will join two DataFrames by columns:"
      ]
    },
    {
      "cell_type": "code",
      "metadata": {
        "colab": {
          "base_uri": "https://localhost:8080/"
        },
        "id": "DJsaLd-cRoIm",
        "outputId": "41349acf-7b4e-40e9-95be-2f851fa7a078"
      },
      "source": [
        "log_price = np.log(aapl_bar.Close)  #genera logarinmo nacional de la tabla en los valores de cierre\n",
        "log_price.name = 'log_price'\n",
        "print(log_price)\n",
        "print('\\n---------------------- separate line--------------------\\n')\n",
        "concat = pd.concat([aapl_bar, log_price], axis = 1) # concatena la tabla logaritmica con appl+bar en el eje 1 que es por columnas\n",
        "print(concat)"
      ],
      "execution_count": 71,
      "outputs": [
        {
          "output_type": "stream",
          "name": "stdout",
          "text": [
            "Date\n",
            "2016-01-31    3.105268\n",
            "2016-02-29    3.103980\n",
            "2016-03-31    3.223726\n",
            "2016-04-30    3.072995\n",
            "2016-05-31    3.142309\n",
            "2016-06-30    3.098712\n",
            "2016-07-31    3.184948\n",
            "2016-08-31    3.208324\n",
            "2016-09-30    3.271773\n",
            "2016-10-31    3.276098\n",
            "2016-11-30    3.254260\n",
            "2016-12-31    3.301101\n",
            "Freq: M, Name: log_price, dtype: float64\n",
            "\n",
            "---------------------- separate line--------------------\n",
            "\n",
            "                 Open       High        Low      Close  log_price\n",
            "Date                                                             \n",
            "2016-01-31  21.730618  22.315205  21.629747  22.315205   3.105268\n",
            "2016-02-29  22.325654  22.641431  22.277250  22.286470   3.103980\n",
            "2016-03-31  25.289813  25.331302  25.096197  25.121552   3.223726\n",
            "2016-04-30  21.664136  21.832397  21.323005  21.606512   3.072995\n",
            "2016-05-31  23.096977  23.282495  22.916097  23.157270   3.142309\n",
            "2016-06-30  21.900386  22.208808  21.867920  22.169386   3.098712\n",
            "2016-07-31  24.161392  24.244875  24.043124  24.166029   3.184948\n",
            "2016-08-31  24.635012  24.847181  24.630348  24.737598   3.208324\n",
            "2016-09-30  26.220459  26.432630  26.066579  26.358021   3.271773\n",
            "2016-10-31  26.497910  26.633140  26.392990  26.472263   3.276098\n",
            "2016-11-30  26.153537  26.294148  25.841851  25.900438   3.254260\n",
            "2016-12-31  27.337008  27.465899  27.051099  27.142496   3.301101\n"
          ]
        }
      ]
    },
    {
      "cell_type": "markdown",
      "metadata": {
        "id": "mIZz-FUyR_62"
      },
      "source": [
        "We can also join two DataFrames by rows. Consider these two DataFrames:"
      ]
    },
    {
      "cell_type": "code",
      "metadata": {
        "colab": {
          "base_uri": "https://localhost:8080/"
        },
        "id": "W7uXZptLHW-C",
        "outputId": "4e42cb48-6389-4ebc-81bf-971f768ceae8"
      },
      "source": [
        "df_volume = aapl_table.loc['2016-10':'2017-04',['Volume', 'Stock Splits']].resample('M').agg(lambda x: x[-1]) # genera una tabla agrupandola mensualmente con columnas volume y stock splits en el rango de 2016-10 y 2017-04 y seleccionandoel ultimo dia\n",
        "print(df_volume)\n",
        "print('\\n---------------------- separate line--------------------\\n')\n",
        "df_2017 = aapl_table.loc['2016-10':'2017-04',['Open', 'High', 'Low', 'Close']].resample('M').agg(lambda x: x[-1]) # genera una tabla agrupandola mensualmente con columnas open,high,low y close en el rango de 2016-10 y 2017-04 y seleccionandoel ultimo dia\n",
        "print(df_2017)"
      ],
      "execution_count": 72,
      "outputs": [
        {
          "output_type": "stream",
          "name": "stdout",
          "text": [
            "               Volume  Stock Splits\n",
            "Date                               \n",
            "2016-10-31  105677600             0\n",
            "2016-11-30  144649200             0\n",
            "2016-12-31  122345200             0\n",
            "2017-01-31  196804000             0\n",
            "2017-02-28   93931600             0\n",
            "2017-03-31   78646800             0\n",
            "2017-04-30   83441600             0\n",
            "\n",
            "---------------------- separate line--------------------\n",
            "\n",
            "                 Open       High        Low      Close\n",
            "Date                                                  \n",
            "2016-10-31  26.497910  26.633140  26.392990  26.472263\n",
            "2016-11-30  26.153537  26.294148  25.841851  25.900438\n",
            "2016-12-31  27.337008  27.465899  27.051099  27.142496\n",
            "2017-01-31  28.391588  28.447832  28.267382  28.438457\n",
            "2017-02-28  32.264068  32.348800  32.174627  32.242886\n",
            "2017-03-31  33.826908  33.956360  33.659796  33.812786\n",
            "2017-04-30  33.913991  33.963419  33.720992  33.810429\n"
          ]
        }
      ]
    },
    {
      "cell_type": "markdown",
      "metadata": {
        "id": "iZk_C9aSSLeP"
      },
      "source": [
        "Now we merge the DataFrames with our DataFrame 'aapl_bar'"
      ]
    },
    {
      "cell_type": "code",
      "metadata": {
        "colab": {
          "base_uri": "https://localhost:8080/"
        },
        "id": "aFqmjokOHW-C",
        "outputId": "0b04d7bc-221c-46eb-c6b8-4a7feca2f531"
      },
      "source": [
        "concat = pd.concat([aapl_bar, df_volume], axis = 1) #concatena las dos tablas anteriores en columnas\n",
        "print(concat)"
      ],
      "execution_count": null,
      "outputs": [
        {
          "output_type": "stream",
          "name": "stdout",
          "text": [
            "                 Open       High  ...       Volume  Stock Splits\n",
            "Date                              ...                           \n",
            "2016-01-31  21.852388  22.440250  ...          NaN           NaN\n",
            "2016-02-29  22.450761  22.768308  ...          NaN           NaN\n",
            "2016-03-31  25.431520  25.473242  ...          NaN           NaN\n",
            "2016-04-30  21.785529  21.954734  ...          NaN           NaN\n",
            "2016-05-31  23.226409  23.412967  ...          NaN           NaN\n",
            "2016-06-30  22.023112  22.333262  ...          NaN           NaN\n",
            "2016-07-31  24.296780  24.380731  ...          NaN           NaN\n",
            "2016-08-31  24.773054  24.986412  ...          NaN           NaN\n",
            "2016-09-30  26.367388  26.580747  ...          NaN           NaN\n",
            "2016-10-31  26.646396  26.782384  ...  105677600.0           0.0\n",
            "2016-11-30  26.300094  26.441492  ...  144649200.0           0.0\n",
            "2016-12-31  27.490193  27.619807  ...  122345200.0           0.0\n",
            "2017-01-31        NaN        NaN  ...  196804000.0           0.0\n",
            "2017-02-28        NaN        NaN  ...   93931600.0           0.0\n",
            "2017-03-31        NaN        NaN  ...   78646800.0           0.0\n",
            "2017-04-30        NaN        NaN  ...   83441600.0           0.0\n",
            "\n",
            "[16 rows x 7 columns]\n"
          ]
        }
      ]
    },
    {
      "cell_type": "markdown",
      "metadata": {
        "id": "7yI3tgB4SR4O"
      },
      "source": [
        "By default the DataFrame are joined with all of the data. This default options results in zero information loss. We can also merge them by intersection, this is called 'inner join"
      ]
    },
    {
      "cell_type": "code",
      "metadata": {
        "colab": {
          "base_uri": "https://localhost:8080/"
        },
        "id": "31QGLyijHW-C",
        "outputId": "5da6383a-4f02-4d76-8bdf-a3845a8ee40b"
      },
      "source": [
        "concat = pd.concat([aapl_bar,df_volume],axis = 1, join = 'inner') # hace la concatenacion pero solo en los valores que coincidan en ambas tablas\n",
        "print(concat)"
      ],
      "execution_count": null,
      "outputs": [
        {
          "output_type": "stream",
          "name": "stdout",
          "text": [
            "                 Open       High  ...     Volume  Stock Splits\n",
            "Date                              ...                         \n",
            "2016-10-31  26.646396  26.782384  ...  105677600             0\n",
            "2016-11-30  26.300094  26.441492  ...  144649200             0\n",
            "2016-12-31  27.490193  27.619807  ...  122345200             0\n",
            "\n",
            "[3 rows x 7 columns]\n"
          ]
        }
      ]
    },
    {
      "cell_type": "markdown",
      "metadata": {
        "id": "oudcWMm5Sd0u"
      },
      "source": [
        "Only the intersection part was left if use 'inner join' method. Now let's try to append a DataFrame to another one:"
      ]
    },
    {
      "cell_type": "code",
      "metadata": {
        "colab": {
          "base_uri": "https://localhost:8080/"
        },
        "id": "lgw0qaOsHW-D",
        "outputId": "d6287ecf-8c47-4367-9f14-5b47625de02b"
      },
      "source": [
        "append = aapl_bar.append(df_2017) #se añade una nueva columna con append()\n",
        "print(append)"
      ],
      "execution_count": null,
      "outputs": [
        {
          "output_type": "stream",
          "name": "stdout",
          "text": [
            "                 Open       High        Low      Close  rate_return\n",
            "Date                                                               \n",
            "2016-01-31  21.852388  22.440250  21.750952  22.440250          NaN\n",
            "2016-02-29  22.450761  22.768308  22.402086  22.411358    -0.001288\n",
            "2016-03-31  25.431520  25.473242  25.236819  25.262316     0.127210\n",
            "2016-04-30  21.785529  21.954734  21.442488  21.727583    -0.139921\n",
            "2016-05-31  23.226409  23.412967  23.044516  23.287041     0.071773\n",
            "2016-06-30  22.023112  22.333262  21.990464  22.293619    -0.042660\n",
            "2016-07-31  24.296780  24.380731  24.177849  24.301443     0.090063\n",
            "2016-08-31  24.773054  24.986412  24.768364  24.876215     0.023652\n",
            "2016-09-30  26.367388  26.580747  26.212645  26.505720     0.065505\n",
            "2016-10-31  26.646396  26.782384  26.540888  26.620605     0.004334\n",
            "2016-11-30  26.300094  26.441492  25.986660  26.045576    -0.021601\n",
            "2016-12-31  27.490193  27.619807  27.202683  27.294592     0.047955\n",
            "2016-10-31  26.646396  26.782384  26.540888  26.620605          NaN\n",
            "2016-11-30  26.300094  26.441492  25.986660  26.045576          NaN\n",
            "2016-12-31  27.490193  27.619807  27.202683  27.294592          NaN\n",
            "2017-01-31  28.550684  28.607243  28.425783  28.597816          NaN\n",
            "2017-02-28  32.444862  32.530069  32.354920  32.423561          NaN\n",
            "2017-03-31  34.016455  34.146633  33.848407  34.002254          NaN\n",
            "2017-04-30  34.104032  34.153737  33.909951  33.999889          NaN\n"
          ]
        }
      ]
    },
    {
      "cell_type": "markdown",
      "metadata": {
        "id": "zXT6cMquSq_P"
      },
      "source": [
        "'Append' is essentially to concat two DataFrames by axis = 0, thus here is an alternative way to append:"
      ]
    },
    {
      "cell_type": "code",
      "metadata": {
        "colab": {
          "base_uri": "https://localhost:8080/"
        },
        "id": "2EuSaFO9HW-D",
        "outputId": "3bd6dad7-022a-4c62-d049-24c219feab39"
      },
      "source": [
        "concat = pd.concat([aapl_bar, df_2017], axis = 0) #se hace lo mismo pero con la funcion concat en el eje 0\n",
        "print(concat)"
      ],
      "execution_count": null,
      "outputs": [
        {
          "output_type": "stream",
          "name": "stdout",
          "text": [
            "                 Open       High        Low      Close  rate_return\n",
            "Date                                                               \n",
            "2016-01-31  21.852388  22.440250  21.750952  22.440250          NaN\n",
            "2016-02-29  22.450761  22.768308  22.402086  22.411358    -0.001288\n",
            "2016-03-31  25.431520  25.473242  25.236819  25.262316     0.127210\n",
            "2016-04-30  21.785529  21.954734  21.442488  21.727583    -0.139921\n",
            "2016-05-31  23.226409  23.412967  23.044516  23.287041     0.071773\n",
            "2016-06-30  22.023112  22.333262  21.990464  22.293619    -0.042660\n",
            "2016-07-31  24.296780  24.380731  24.177849  24.301443     0.090063\n",
            "2016-08-31  24.773054  24.986412  24.768364  24.876215     0.023652\n",
            "2016-09-30  26.367388  26.580747  26.212645  26.505720     0.065505\n",
            "2016-10-31  26.646396  26.782384  26.540888  26.620605     0.004334\n",
            "2016-11-30  26.300094  26.441492  25.986660  26.045576    -0.021601\n",
            "2016-12-31  27.490193  27.619807  27.202683  27.294592     0.047955\n",
            "2016-10-31  26.646396  26.782384  26.540888  26.620605          NaN\n",
            "2016-11-30  26.300094  26.441492  25.986660  26.045576          NaN\n",
            "2016-12-31  27.490193  27.619807  27.202683  27.294592          NaN\n",
            "2017-01-31  28.550684  28.607243  28.425783  28.597816          NaN\n",
            "2017-02-28  32.444862  32.530069  32.354920  32.423561          NaN\n",
            "2017-03-31  34.016455  34.146633  33.848407  34.002254          NaN\n",
            "2017-04-30  34.104032  34.153737  33.909951  33.999889          NaN\n"
          ]
        }
      ]
    },
    {
      "cell_type": "markdown",
      "metadata": {
        "id": "-YXL7V9ASst9"
      },
      "source": [
        "Please note that if the two DataFrame have some columns with the same column names, these columns are considered to be the same and will be merged. It's very important to have the right column names. If we change a column names here:"
      ]
    },
    {
      "cell_type": "code",
      "metadata": {
        "colab": {
          "base_uri": "https://localhost:8080/"
        },
        "id": "aT1eoa8mHW-D",
        "outputId": "9f6952b7-493e-4cd9-d3e3-9bf6480a89b9"
      },
      "source": [
        "df_2017.columns = ['Change', 'High','Low','Close'] #se cambia los nombres de columnas para evitar conflictos al concatenar y se unan valores indeseados\n",
        "concat = pd.concat([aapl_bar, df_2017], axis = 0)\n",
        "print(concat)"
      ],
      "execution_count": 73,
      "outputs": [
        {
          "output_type": "stream",
          "name": "stdout",
          "text": [
            "                 Open       High        Low      Close     Change\n",
            "Date                                                             \n",
            "2016-01-31  21.730618  22.315205  21.629747  22.315205        NaN\n",
            "2016-02-29  22.325654  22.641431  22.277250  22.286470        NaN\n",
            "2016-03-31  25.289813  25.331302  25.096197  25.121552        NaN\n",
            "2016-04-30  21.664136  21.832397  21.323005  21.606512        NaN\n",
            "2016-05-31  23.096977  23.282495  22.916097  23.157270        NaN\n",
            "2016-06-30  21.900386  22.208808  21.867920  22.169386        NaN\n",
            "2016-07-31  24.161392  24.244875  24.043124  24.166029        NaN\n",
            "2016-08-31  24.635012  24.847181  24.630348  24.737598        NaN\n",
            "2016-09-30  26.220459  26.432630  26.066579  26.358021        NaN\n",
            "2016-10-31  26.497910  26.633140  26.392990  26.472263        NaN\n",
            "2016-11-30  26.153537  26.294148  25.841851  25.900438        NaN\n",
            "2016-12-31  27.337008  27.465899  27.051099  27.142496        NaN\n",
            "2016-10-31        NaN  26.633140  26.392990  26.472263  26.497910\n",
            "2016-11-30        NaN  26.294148  25.841851  25.900438  26.153537\n",
            "2016-12-31        NaN  27.465899  27.051099  27.142496  27.337008\n",
            "2017-01-31        NaN  28.447832  28.267382  28.438457  28.391588\n",
            "2017-02-28        NaN  32.348800  32.174627  32.242886  32.264068\n",
            "2017-03-31        NaN  33.956360  33.659796  33.812786  33.826908\n",
            "2017-04-30        NaN  33.963419  33.720992  33.810429  33.913991\n"
          ]
        }
      ]
    },
    {
      "cell_type": "markdown",
      "metadata": {
        "id": "shbpOFyyS6uV"
      },
      "source": [
        "Since the column name of 'Open' has been changed, the new DataFrame has an new column named 'Change'.\n",
        "\n",
        "# Summary\n",
        "\n",
        "Hereby we introduced the most import part of python: resampling and DataFrame manipulation. We only introduced the most commonly used method in Financial data analysis. There are also many methods used in data mining, which are also beneficial. You can always check the [Pandas](https://pandas.pydata.org/pandas-docs/stable/index.html) official documentations for help."
      ]
    }
  ]
}